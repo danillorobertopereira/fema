{
 "cells": [
  {
   "cell_type": "code",
   "execution_count": 1,
   "id": "5829d305-da63-4153-9fae-64e5d35d391a",
   "metadata": {},
   "outputs": [
    {
     "name": "stderr",
     "output_type": "stream",
     "text": [
      "/tmp/ipykernel_107435/26362785.py:11: DeprecationWarning: \n",
      "Pyarrow will become a required dependency of pandas in the next major release of pandas (pandas 3.0),\n",
      "(to allow more performant data types, such as the Arrow string type, and better interoperability with other libraries)\n",
      "but was not found to be installed on your system.\n",
      "If this would cause problems for you,\n",
      "please provide us feedback at https://github.com/pandas-dev/pandas/issues/54466\n",
      "        \n",
      "  import pandas as pd\n"
     ]
    }
   ],
   "source": [
    "import sys\n",
    "import os\n",
    "from typing import Tuple\n",
    "\n",
    "sys.path.append('/home/danillorp/Área de Trabalho/github/fema/src/')\n",
    "\n",
    "\n",
    "import fema_semi\n",
    "import fema_classifier\n",
    "import numpy as np\n",
    "import pandas as pd\n",
    "from sklearn.preprocessing import StandardScaler\n",
    "from sklearn.model_selection import train_test_split\n",
    "from sklearn.metrics import confusion_matrix\n",
    "from sklearn.metrics import balanced_accuracy_score\n",
    "from sklearn.metrics import accuracy_score\n",
    "from sklearn import preprocessing\n",
    "import matplotlib.pyplot as plt\n"
   ]
  },
  {
   "cell_type": "code",
   "execution_count": 2,
   "id": "d5f4fb33-9786-4c28-a496-8e883b490539",
   "metadata": {},
   "outputs": [],
   "source": [
    "df = pd.read_csv('/home/danillorp/Área de Trabalho/github/fema/data/fetal_health.csv').reset_index()\n",
    "\n",
    "\n",
    "features = [\n",
    "            'baseline value', 'accelerations', 'fetal_movement',\n",
    "            'uterine_contractions', 'light_decelerations', 'severe_decelerations',\n",
    "            'prolongued_decelerations', 'abnormal_short_term_variability',\n",
    "            'mean_value_of_short_term_variability',\n",
    "            'percentage_of_time_with_abnormal_long_term_variability',\n",
    "            'mean_value_of_long_term_variability', 'histogram_width',\n",
    "            'histogram_min', 'histogram_max', 'histogram_number_of_peaks',\n",
    "            'histogram_number_of_zeroes', 'histogram_mode', 'histogram_mean',\n",
    "            'histogram_median', 'histogram_variance', 'histogram_tendency',\n",
    "            ]\n",
    "target = ['fetal_health']\n",
    "\n",
    "df[target] = df[target].astype(int)\n",
    "#With FEMa the class label need start from 0\n",
    "df[target] = df[target] - 1 \n"
   ]
  },
  {
   "cell_type": "code",
   "execution_count": 3,
   "id": "8ed480bd-ef31-4500-95ea-076954f27f44",
   "metadata": {},
   "outputs": [
    {
     "name": "stdout",
     "output_type": "stream",
     "text": [
      "train_size 425 classes: {0, 1, 2}\n",
      "test_size 426 classes: {0, 1, 2}\n",
      "uknw_size 1275 classes: {0, 1, 2}\n"
     ]
    }
   ],
   "source": [
    "train_x, test_x, train_y, test_y = train_test_split(df[features].values, df[target].values, test_size=0.8)\n",
    "uknw_x, test_x, uknw_y, test_y = train_test_split(test_x, test_y, test_size=0.25)\n",
    "\n",
    "print('train_size',len(train_x),'classes:',set(train_y[:,0]))\n",
    "print('test_size',len(test_x),'classes:',set(test_y[:,0]))\n",
    "print('uknw_size',len(uknw_x),'classes:',set(uknw_y[:,0]))\n",
    "\n",
    "scaler = StandardScaler()\n",
    "\n",
    "train_x = scaler.fit_transform(train_x)\n",
    "test_x = scaler.transform(test_x)\n",
    "uknw_x = scaler.transform(uknw_x)\n",
    "\n",
    "   "
   ]
  },
  {
   "cell_type": "code",
   "execution_count": 4,
   "id": "570a7e1a-011c-407e-b0e2-ad0287d22af5",
   "metadata": {},
   "outputs": [
    {
     "name": "stdout",
     "output_type": "stream",
     "text": [
      "[[335   0   0]\n",
      " [ 39  19   1]\n",
      " [ 19   9   4]] 0.4823446327683616 0.8403755868544601\n"
     ]
    }
   ],
   "source": [
    "model_fema_original = fema_classifier.FEMaClassifier(k=100,basis=fema_classifier.Basis.shepardBasis)\n",
    "model_fema_original.fit(train_x,train_y)\n",
    "\n",
    "pred, confidence_level = model_fema_original.predict(test_x,2)\n",
    "\n",
    "cm_fema_original = confusion_matrix(test_y,pred)\n",
    "bal_acc_original = balanced_accuracy_score(test_y, pred)\n",
    "acc_original = accuracy_score(test_y, pred)\n",
    "\n",
    "\n",
    "print(cm_fema_original, bal_acc_original, acc_original)\n"
   ]
  },
  {
   "cell_type": "code",
   "execution_count": 5,
   "id": "74689917-27a4-4f2d-bfe3-758f1259e6fc",
   "metadata": {},
   "outputs": [
    {
     "name": "stdout",
     "output_type": "stream",
     "text": [
      "1275 3\n"
     ]
    },
    {
     "name": "stderr",
     "output_type": "stream",
     "text": [
      "/home/danillorp/Área de Trabalho/github/fema/src/fem_basis.py:33: RuntimeWarning: divide by zero encountered in divide\n",
      "  dist = 1.0/(dist**z)\n",
      "/home/danillorp/Área de Trabalho/github/fema/src/fem_basis.py:34: RuntimeWarning: invalid value encountered in divide\n",
      "  weitghs = dist[mask]/sum(dist[mask]+0.0000000001)\n"
     ]
    },
    {
     "name": "stdout",
     "output_type": "stream",
     "text": [
      "[[331   4   0]\n",
      " [ 36  21   2]\n",
      " [ 13   7  12]] 0.572997301627456 0.8544600938967136\n"
     ]
    }
   ],
   "source": [
    "model_semi = fema_semi.FEMaSemiSupervisedClassifier(k=100,basis=fema_semi.Basis.shepardBasis)\n",
    "model_semi.fit(train_x,train_y,uknw_x,3)\n",
    "\n",
    "pred, confidence_level = model_semi.predict(test_x,2)\n",
    "\n",
    "cm_fema_semi = confusion_matrix(test_y,pred)\n",
    "bal_acc_semi = balanced_accuracy_score(test_y, pred)\n",
    "acc_semi = accuracy_score(test_y, pred)\n",
    "\n",
    "\n",
    "print(cm_fema_semi, bal_acc_semi, acc_semi)\n"
   ]
  }
 ],
 "metadata": {
  "kernelspec": {
   "display_name": "Python 3 (ipykernel)",
   "language": "python",
   "name": "python3"
  },
  "language_info": {
   "codemirror_mode": {
    "name": "ipython",
    "version": 3
   },
   "file_extension": ".py",
   "mimetype": "text/x-python",
   "name": "python",
   "nbconvert_exporter": "python",
   "pygments_lexer": "ipython3",
   "version": "3.10.12"
  }
 },
 "nbformat": 4,
 "nbformat_minor": 5
}
