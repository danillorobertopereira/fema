{
 "cells": [
  {
   "cell_type": "code",
   "execution_count": 1,
   "id": "53e2a698-2a3c-403a-bbcc-1673d9e21d5f",
   "metadata": {},
   "outputs": [],
   "source": [
    "import sys\n",
    "import os\n",
    "from typing import Tuple\n",
    "\n",
    "sys.path.append('/home/danillorp/Área de Trabalho/github/fema/src/')\n",
    "\n",
    "\n",
    "import fema_classifier\n",
    "import fema_feature_learning\n",
    "import numpy as np\n",
    "import pandas as pd\n",
    "\n",
    "from sklearn.preprocessing import StandardScaler\n",
    "from sklearn.model_selection import train_test_split\n",
    "from sklearn.metrics import confusion_matrix\n",
    "from sklearn.metrics import balanced_accuracy_score\n",
    "from sklearn.metrics import accuracy_score\n",
    "from sklearn import preprocessing\n",
    "import matplotlib.pyplot as plt\n"
   ]
  },
  {
   "cell_type": "code",
   "execution_count": 2,
   "id": "d51fed12-0d52-4b87-aba8-de00ebcbe9e3",
   "metadata": {},
   "outputs": [
    {
     "name": "stderr",
     "output_type": "stream",
     "text": [
      "2024-03-08 20:33:18.290987: I tensorflow/core/util/port.cc:113] oneDNN custom operations are on. You may see slightly different numerical results due to floating-point round-off errors from different computation orders. To turn them off, set the environment variable `TF_ENABLE_ONEDNN_OPTS=0`.\n",
      "2024-03-08 20:33:18.351523: E external/local_xla/xla/stream_executor/cuda/cuda_dnn.cc:9261] Unable to register cuDNN factory: Attempting to register factory for plugin cuDNN when one has already been registered\n",
      "2024-03-08 20:33:18.351576: E external/local_xla/xla/stream_executor/cuda/cuda_fft.cc:607] Unable to register cuFFT factory: Attempting to register factory for plugin cuFFT when one has already been registered\n",
      "2024-03-08 20:33:18.353671: E external/local_xla/xla/stream_executor/cuda/cuda_blas.cc:1515] Unable to register cuBLAS factory: Attempting to register factory for plugin cuBLAS when one has already been registered\n",
      "2024-03-08 20:33:18.365344: I tensorflow/core/platform/cpu_feature_guard.cc:182] This TensorFlow binary is optimized to use available CPU instructions in performance-critical operations.\n",
      "To enable the following instructions: AVX2 AVX_VNNI FMA, in other operations, rebuild TensorFlow with the appropriate compiler flags.\n",
      "2024-03-08 20:33:19.530493: W tensorflow/compiler/tf2tensorrt/utils/py_utils.cc:38] TF-TRT Warning: Could not find TensorRT\n"
     ]
    }
   ],
   "source": [
    "from keras.datasets import mnist"
   ]
  },
  {
   "cell_type": "code",
   "execution_count": 3,
   "id": "99a59db6-7a93-4ae9-89cf-7500e732966a",
   "metadata": {},
   "outputs": [],
   "source": [
    "(train_x, train_y), (test_x, test_y) = mnist.load_data()"
   ]
  },
  {
   "cell_type": "code",
   "execution_count": 4,
   "id": "e630f43c-38e2-4683-9a96-9c359d715124",
   "metadata": {},
   "outputs": [
    {
     "name": "stdout",
     "output_type": "stream",
     "text": [
      "X_train: (60000, 28, 28)\n",
      "Y_train: (60000,)\n",
      "X_test:  (10000, 28, 28)\n",
      "Y_test:  (10000,)\n"
     ]
    }
   ],
   "source": [
    "print('X_train: ' + str(train_x.shape))\n",
    "print('Y_train: ' + str(train_y.shape))\n",
    "print('X_test:  '  + str(test_x.shape))\n",
    "print('Y_test:  '  + str(test_y.shape))"
   ]
  },
  {
   "cell_type": "code",
   "execution_count": 5,
   "id": "2bc8052e-3f1e-43e7-aace-4015a993e490",
   "metadata": {},
   "outputs": [],
   "source": [
    "from sklearn.tree import DecisionTreeClassifier\n",
    "from sklearn.ensemble import RandomForestClassifier\n",
    "from sklearn.ensemble import GradientBoostingClassifier\n",
    "\n",
    "classifiers = {'DecisionTreeClassifier()':DecisionTreeClassifier(),\n",
    "               'RandomForestClassifier()':RandomForestClassifier()}\n"
   ]
  },
  {
   "cell_type": "code",
   "execution_count": 6,
   "id": "a51ef555-0306-4d0d-9c36-a2910b2d0d63",
   "metadata": {},
   "outputs": [],
   "source": [
    "train_x_ravel = train_x.reshape(train_x.shape[0],train_x.shape[1]*train_x.shape[2])\n",
    "test_x_ravel = test_x.reshape(test_x.shape[0],test_x.shape[1]*test_x.shape[2])"
   ]
  },
  {
   "cell_type": "code",
   "execution_count": 7,
   "id": "1550bdbc-ea7d-44c6-a0a6-be7fa6f02c08",
   "metadata": {},
   "outputs": [
    {
     "name": "stdout",
     "output_type": "stream",
     "text": [
      "***** DecisionTreeClassifier() *******\n",
      "CM  DecisionTreeClassifier() Original: [[ 915    0   11    4    6   12    9    2    9   12]\n",
      " [   2 1088    9    9    3    7    6    3    7    1]\n",
      " [  11    8  883   33   16    8   13   29   22    9]\n",
      " [   8    7   29  852   10   41    4   12   27   20]\n",
      " [   5    3   11    6  863    8   14    8   19   45]\n",
      " [  14    6    4   45    6  757   24    3   21   12]\n",
      " [  16    5   12    9   18   22  847    1   24    4]\n",
      " [   3   10   21   18    8    3    2  934   11   18]\n",
      " [   9    6   32   37   24   36   13   11  780   26]\n",
      " [  13    3    8   17   43   15    7   19   24  860]]\n",
      "BalAcc  DecisionTreeClassifier()  Original: 0.8764766051886598\n",
      "Acc  DecisionTreeClassifier() Original: 0.8779\n",
      "************\n",
      "***** RandomForestClassifier() *******\n",
      "CM  RandomForestClassifier() Original: [[ 971    0    1    0    0    1    2    1    4    0]\n",
      " [   0 1122    3    4    0    2    2    0    1    1]\n",
      " [   5    0 1003    6    3    0    3    8    4    0]\n",
      " [   0    0    8  981    0    4    0    9    6    2]\n",
      " [   1    0    3    0  954    0    5    0    2   17]\n",
      " [   4    0    2    9    4  860    4    1    5    3]\n",
      " [   5    3    1    0    5    4  935    0    5    0]\n",
      " [   1    5   18    4    2    0    0  986    1   11]\n",
      " [   4    0    4    9    4    6    3    3  929   12]\n",
      " [   6    5    2   11   12    3    1    4    7  958]]\n",
      "BalAcc  RandomForestClassifier()  Original: 0.9696550549760629\n",
      "Acc  RandomForestClassifier() Original: 0.9699\n",
      "************\n"
     ]
    }
   ],
   "source": [
    "for c in classifiers:\n",
    "    classifiers[c].fit(train_x_ravel,train_y)\n",
    "    pred = classifiers[c].predict(test_x_ravel)\n",
    "\n",
    "    cm = confusion_matrix(test_y,pred)\n",
    "    bal = balanced_accuracy_score(test_y, pred)\n",
    "    acc = accuracy_score(test_y, pred)\n",
    "\n",
    "    print('*****',c,'*******')\n",
    "    print('CM ',c,'Original:',cm)\n",
    "    print('BalAcc ',c,' Original:',bal)\n",
    "    print('Acc ',c,'Original:',acc)\n",
    "    print('************')"
   ]
  },
  {
   "cell_type": "code",
   "execution_count": 8,
   "id": "ef823473-39ff-41e7-9b6e-d7162381a236",
   "metadata": {},
   "outputs": [
    {
     "name": "stdout",
     "output_type": "stream",
     "text": [
      "(60000, 28, 28) (60000, 784) (60000,)\n",
      "(3000, 784) (3000,)\n",
      "Running:  0.0  concluded.\n",
      "Running:  0.1  concluded.\n",
      "Running:  0.2  concluded.\n",
      "Running:  0.3  concluded.\n",
      "Running:  0.4  concluded.\n",
      "Running:  0.5  concluded.\n",
      "Running:  0.6  concluded.\n",
      "Running:  0.7  concluded.\n",
      "Running:  0.8  concluded.\n",
      "Running:  0.9  concluded.\n"
     ]
    }
   ],
   "source": [
    "model_fl = fema_feature_learning.FEMaFeatureLearning(k=10,basis=fema_classifier.Basis.radialBasis)\n",
    "\n",
    "print(train_x.shape, train_x_ravel.shape, train_y.shape)\n",
    "_x, eval_x, _y, eval_y = train_test_split(train_x_ravel, train_y, test_size=0.05)\n",
    "print(eval_x.shape, eval_y.shape)\n",
    "\n",
    "features_weigths = model_fl.fit(eval_x, eval_y.reshape(eval_y.shape[0],1), np.array([0]), np.array([0]))\n",
    "\n"
   ]
  },
  {
   "cell_type": "code",
   "execution_count": 9,
   "id": "2503f563-fb64-4cce-9f80-7dd366e77734",
   "metadata": {},
   "outputs": [
    {
     "data": {
      "text/plain": [
       "(2, 10, 28, 28)"
      ]
     },
     "execution_count": 9,
     "metadata": {},
     "output_type": "execute_result"
    }
   ],
   "source": [
    "model_fl.features_weigth.reshape(2,10,28,28).shape"
   ]
  },
  {
   "cell_type": "code",
   "execution_count": 10,
   "id": "ebee53f5-2abc-40a5-ac80-a015792381fe",
   "metadata": {},
   "outputs": [
    {
     "data": {
      "text/plain": [
       "<matplotlib.image.AxesImage at 0x7f1db00c9e70>"
      ]
     },
     "execution_count": 10,
     "metadata": {},
     "output_type": "execute_result"
    },
    {
     "data": {
      "image/png": "[encoded data removed]",
      "text/plain": [
       "<Figure size 640x480 with 1 Axes>"
      ]
     },
     "metadata": {},
     "output_type": "display_data"
    }
   ],
   "source": [
    "plt.imshow(model_fl.features_weigth[model_fl.INTRA,0].reshape(28,28))"
   ]
  },
  {
   "cell_type": "code",
   "execution_count": 11,
   "id": "193fcd26-4bea-4d64-ad52-067f48e1c792",
   "metadata": {},
   "outputs": [
    {
     "data": {
      "text/plain": [
       "<matplotlib.image.AxesImage at 0x7f1dab4f44f0>"
      ]
     },
     "execution_count": 11,
     "metadata": {},
     "output_type": "execute_result"
    },
    {
     "data": {
      "image/png": "[encoded data removed]",
      "text/plain": [
       "<Figure size 640x480 with 1 Axes>"
      ]
     },
     "metadata": {},
     "output_type": "display_data"
    }
   ],
   "source": [
    "plt.imshow(model_fl.features_weigth[model_fl.INTER,0].reshape(28,28))"
   ]
  },
  {
   "cell_type": "code",
   "execution_count": 12,
   "id": "daccd687-0bde-4adc-b886-c5ae8cbf17e6",
   "metadata": {},
   "outputs": [
    {
     "data": {
      "image/png": "[encoded data removed]",
      "text/plain": [
       "<Figure size 1000x500 with 10 Axes>"
      ]
     },
     "metadata": {},
     "output_type": "display_data"
    }
   ],
   "source": [
    "fig = plt.figure(figsize=(10, 5)) \n",
    "  \n",
    "# setting values to rows and column variables \n",
    "rows = 2\n",
    "columns = 5\n",
    "    \n",
    "count = 1\n",
    "for r in range(rows):\n",
    "    for c in range(columns):\n",
    "        \n",
    "        # Adds a subplot at the 1st position \n",
    "        fig.add_subplot(rows, columns, count) \n",
    "      \n",
    "        # showing image         \n",
    "        plt.imshow(model_fl.features_weigth[model_fl.INTRA,count-1].reshape(28,28)) \n",
    "        plt.axis('off') \n",
    "\n",
    "        count = count+1\n"
   ]
  },
  {
   "cell_type": "code",
   "execution_count": 13,
   "id": "3441ce42-f392-41de-89d4-d6efa22e5ddd",
   "metadata": {},
   "outputs": [
    {
     "data": {
      "image/png": "[encoded data removed]",
      "text/plain": [
       "<Figure size 1000x500 with 10 Axes>"
      ]
     },
     "metadata": {},
     "output_type": "display_data"
    }
   ],
   "source": [
    "fig = plt.figure(figsize=(10, 5)) \n",
    "  \n",
    "# setting values to rows and column variables \n",
    "rows = 2\n",
    "columns = 5\n",
    "    \n",
    "count = 1\n",
    "for r in range(rows):\n",
    "    for c in range(columns):\n",
    "        \n",
    "        # Adds a subplot at the 1st position \n",
    "        fig.add_subplot(rows, columns, count) \n",
    "      \n",
    "        # showing image         \n",
    "        plt.imshow(model_fl.features_weigth[model_fl.INTER,count-1].reshape(28,28)) \n",
    "        plt.axis('off') \n",
    "\n",
    "        count = count+1\n"
   ]
  },
  {
   "cell_type": "code",
   "execution_count": 14,
   "id": "8f2f68e6-f70a-442f-9cf0-23a69d0cb7c4",
   "metadata": {},
   "outputs": [
    {
     "data": {
      "image/png": "[encoded data removed]",
      "text/plain": [
       "<Figure size 1000x500 with 10 Axes>"
      ]
     },
     "metadata": {},
     "output_type": "display_data"
    }
   ],
   "source": [
    "fig = plt.figure(figsize=(10, 5)) \n",
    "  \n",
    "# setting values to rows and column variables \n",
    "rows = 2\n",
    "columns = 5\n",
    "    \n",
    "count = 1\n",
    "for r in range(rows):\n",
    "    for c in range(columns):\n",
    "        \n",
    "        # Adds a subplot at the 1st position \n",
    "        fig.add_subplot(rows, columns, count) \n",
    "      \n",
    "        # showing image         \n",
    "        plt.imshow(model_fl.features_weigth[model_fl.INTER,count-1].reshape(28,28)-(model_fl.features_weigth[model_fl.INTRA,count-1].reshape(28,28))) \n",
    "        plt.axis('off') \n",
    "\n",
    "        count = count+1\n"
   ]
  },
  {
   "cell_type": "code",
   "execution_count": 15,
   "id": "78b55e93-af94-4211-8824-6d7c28e0aeb7",
   "metadata": {},
   "outputs": [],
   "source": [
    "fl_weigths = np.zeros((model_fl.features_weigth.shape[2]))\n",
    "n_classes = len(set(train_y))\n",
    "\n",
    "for c in range(n_classes):\n",
    "    for f in range(train_x_ravel.shape[1]):\n",
    "        fl_weigths[f] = fl_weigths[f] + (features_weigths[model_fl.INTER, c, f]+features_weigths[model_fl.INTRA, c, f])/n_classes\n",
    "\n",
    "max_w = np.max(fl_weigths)\n",
    "for f in range(train_x_ravel.shape[1]):\n",
    "    fl_weigths[f] = fl_weigths[f]/max_w"
   ]
  },
  {
   "cell_type": "code",
   "execution_count": 16,
   "id": "34a3900c-1341-462f-b36f-67e2172c292b",
   "metadata": {},
   "outputs": [
    {
     "data": {
      "text/plain": [
       "array([0.00000000e+00, 0.00000000e+00, 0.00000000e+00, 0.00000000e+00,\n",
       "       0.00000000e+00, 0.00000000e+00, 0.00000000e+00, 0.00000000e+00,\n",
       "       0.00000000e+00, 0.00000000e+00, 0.00000000e+00, 0.00000000e+00,\n",
       "       0.00000000e+00, 0.00000000e+00, 0.00000000e+00, 0.00000000e+00,\n",
       "       0.00000000e+00, 0.00000000e+00, 0.00000000e+00, 0.00000000e+00,\n",
       "       0.00000000e+00, 0.00000000e+00, 0.00000000e+00, 0.00000000e+00,\n",
       "       0.00000000e+00, 0.00000000e+00, 0.00000000e+00, 0.00000000e+00,\n",
       "       0.00000000e+00, 0.00000000e+00, 0.00000000e+00, 0.00000000e+00,\n",
       "       0.00000000e+00, 0.00000000e+00, 0.00000000e+00, 5.90396375e-04,\n",
       "       1.47020274e-03, 1.46441454e-03, 5.89989703e-04, 9.13844218e-04,\n",
       "       3.19036198e-03, 3.57780536e-03, 1.32908991e-03, 2.75527787e-03,\n",
       "       4.53418657e-03, 3.37237166e-03, 4.06086243e-03, 2.43710989e-03,\n",
       "       1.26036353e-03, 1.46441454e-03, 1.21552195e-04, 0.00000000e+00,\n",
       "       0.00000000e+00, 0.00000000e+00, 0.00000000e+00, 0.00000000e+00,\n",
       "       0.00000000e+00, 0.00000000e+00, 3.70444784e-04, 0.00000000e+00,\n",
       "       0.00000000e+00, 0.00000000e+00, 3.41503786e-04, 1.25443299e-03,\n",
       "       3.08900752e-03, 7.00102391e-03, 1.02019884e-02, 1.58638956e-02,\n",
       "       3.25161697e-02, 4.63491836e-02, 4.31733993e-02, 5.40365998e-02,\n",
       "       5.62915560e-02, 5.16953045e-02, 4.70553807e-02, 3.55534402e-02,\n",
       "       1.65981844e-02, 1.03379190e-02, 6.47845861e-03, 1.08730721e-03,\n",
       "       0.00000000e+00, 0.00000000e+00, 0.00000000e+00, 0.00000000e+00,\n",
       "       0.00000000e+00, 0.00000000e+00, 8.16136166e-04, 4.05173983e-05,\n",
       "       5.41527418e-04, 1.42715038e-03, 1.88232824e-03, 4.85378433e-03,\n",
       "       1.58337696e-02, 3.33424011e-02, 5.44350452e-02, 8.32962527e-02,\n",
       "       1.16464397e-01, 1.40627442e-01, 1.59755001e-01, 1.77417521e-01,\n",
       "       1.71112592e-01, 1.57435235e-01, 1.36013595e-01, 9.31291170e-02,\n",
       "       5.80206984e-02, 3.53561459e-02, 1.62677720e-02, 5.36686159e-03,\n",
       "       2.44287775e-03, 6.94583971e-05, 0.00000000e+00, 0.00000000e+00,\n",
       "       0.00000000e+00, 0.00000000e+00, 1.30098216e-04, 3.01204100e-04,\n",
       "       9.51319151e-04, 2.06472447e-03, 7.60530083e-03, 3.18405346e-02,\n",
       "       7.92947084e-02, 1.36282908e-01, 1.99318920e-01, 2.84146148e-01,\n",
       "       3.87023119e-01, 4.58706260e-01, 5.15109108e-01, 5.55271524e-01,\n",
       "       5.54396599e-01, 5.01391716e-01, 4.16008321e-01, 3.16605142e-01,\n",
       "       2.09614134e-01, 1.29766067e-01, 7.74295866e-02, 3.86157479e-02,\n",
       "       1.73414370e-02, 4.97137930e-03, 8.31527600e-05, 0.00000000e+00,\n",
       "       0.00000000e+00, 0.00000000e+00, 0.00000000e+00, 2.26828731e-03,\n",
       "       6.63179992e-03, 1.81843025e-02, 5.03689233e-02, 1.08261227e-01,\n",
       "       1.93853131e-01, 2.90110430e-01, 4.19781736e-01, 5.51745236e-01,\n",
       "       6.83055603e-01, 7.69268763e-01, 8.26075173e-01, 8.50767225e-01,\n",
       "       8.54408055e-01, 8.20776626e-01, 7.50515399e-01, 6.25944216e-01,\n",
       "       4.66681188e-01, 3.10019891e-01, 1.94309211e-01, 1.18092660e-01,\n",
       "       6.44597060e-02, 2.00317489e-02, 3.45347603e-03, 0.00000000e+00,\n",
       "       0.00000000e+00, 2.11050569e-05, 1.61743353e-04, 2.58031445e-03,\n",
       "       1.78197653e-02, 5.78609796e-02, 1.24953594e-01, 2.11523933e-01,\n",
       "       3.42443674e-01, 4.97352895e-01, 6.51114588e-01, 7.81040879e-01,\n",
       "       8.79488859e-01, 9.22867507e-01, 9.30755640e-01, 9.30169145e-01,\n",
       "       9.36029943e-01, 9.39960763e-01, 9.11029348e-01, 8.16618246e-01,\n",
       "       6.61327142e-01, 4.97531222e-01, 3.30677102e-01, 1.92482657e-01,\n",
       "       1.11890975e-01, 4.76368029e-02, 7.45800140e-03, 0.00000000e+00,\n",
       "       0.00000000e+00, 1.68840455e-04, 3.12149836e-04, 6.15407342e-03,\n",
       "       3.65845525e-02, 9.98439881e-02, 1.99262125e-01, 3.29708240e-01,\n",
       "       5.09801554e-01, 6.93828781e-01, 8.30934871e-01, 9.30094541e-01,\n",
       "       9.68159590e-01, 9.71204981e-01, 9.63276770e-01, 9.62125167e-01,\n",
       "       9.59121073e-01, 9.63959771e-01, 9.61350873e-01, 9.07791615e-01,\n",
       "       7.97481487e-01, 6.23388982e-01, 4.36850128e-01, 2.54538412e-01,\n",
       "       1.32445117e-01, 5.57530993e-02, 8.19681206e-03, 0.00000000e+00,\n",
       "       0.00000000e+00, 2.35359029e-04, 1.68426118e-03, 1.67660574e-02,\n",
       "       5.46113526e-02, 1.26493413e-01, 2.54747366e-01, 4.41813866e-01,\n",
       "       6.36453159e-01, 8.11011788e-01, 9.06118813e-01, 9.52172488e-01,\n",
       "       9.55578530e-01, 9.69628283e-01, 9.71972338e-01, 9.65497242e-01,\n",
       "       9.65032035e-01, 9.70395503e-01, 9.64222399e-01, 9.28747314e-01,\n",
       "       8.25879436e-01, 6.67885493e-01, 4.83912162e-01, 2.80341598e-01,\n",
       "       1.28370208e-01, 5.06858184e-02, 1.37786630e-02, 8.82661222e-04,\n",
       "       0.00000000e+00, 2.75354790e-03, 8.31154536e-03, 2.80879577e-02,\n",
       "       7.61502611e-02, 1.43087121e-01, 3.02392246e-01, 5.07148857e-01,\n",
       "       7.03472650e-01, 8.47842018e-01, 9.06270463e-01, 9.22882266e-01,\n",
       "       9.35705188e-01, 9.38508339e-01, 9.17554290e-01, 9.11803557e-01,\n",
       "       9.32876431e-01, 9.51802151e-01, 9.48037814e-01, 9.13821244e-01,\n",
       "       8.14611348e-01, 6.60484868e-01, 4.67940842e-01, 2.53614461e-01,\n",
       "       9.50211678e-02, 3.07434543e-02, 1.07056554e-02, 3.74462337e-04,\n",
       "       0.00000000e+00, 3.77835835e-03, 1.08902606e-02, 2.63923193e-02,\n",
       "       6.92835801e-02, 1.51501588e-01, 3.24764252e-01, 5.26874826e-01,\n",
       "       7.26926044e-01, 8.54261060e-01, 8.96462016e-01, 9.12321546e-01,\n",
       "       9.05627544e-01, 8.73448618e-01, 8.34083410e-01, 8.43663814e-01,\n",
       "       9.03446940e-01, 9.36511354e-01, 9.24252532e-01, 8.89361511e-01,\n",
       "       7.85015496e-01, 5.99941212e-01, 4.02241841e-01, 2.11984804e-01,\n",
       "       6.80204722e-02, 1.77663224e-02, 5.44204213e-03, 0.00000000e+00,\n",
       "       0.00000000e+00, 1.20085584e-03, 8.08585792e-03, 1.82829637e-02,\n",
       "       5.44377248e-02, 1.58839502e-01, 3.27229677e-01, 5.39127160e-01,\n",
       "       7.45861269e-01, 8.50881277e-01, 8.85407890e-01, 8.82472485e-01,\n",
       "       8.45742673e-01, 7.96402984e-01, 7.65095407e-01, 8.16869703e-01,\n",
       "       9.10121225e-01, 9.29411197e-01, 9.08609970e-01, 8.78637307e-01,\n",
       "       7.41398057e-01, 5.41029410e-01, 3.52662970e-01, 1.95859102e-01,\n",
       "       6.81128892e-02, 1.29623319e-02, 2.51540708e-03, 0.00000000e+00,\n",
       "       0.00000000e+00, 1.19819142e-03, 5.24869151e-03, 1.55257762e-02,\n",
       "       4.94329823e-02, 1.64237204e-01, 3.43866669e-01, 5.72514175e-01,\n",
       "       7.58475096e-01, 8.58176471e-01, 8.84443001e-01, 8.61429866e-01,\n",
       "       8.06218923e-01, 7.79341309e-01, 7.89989738e-01, 8.71515586e-01,\n",
       "       9.41509141e-01, 9.23466046e-01, 9.17157888e-01, 8.65175893e-01,\n",
       "       6.98823049e-01, 4.83497704e-01, 3.23562612e-01, 1.99725511e-01,\n",
       "       7.97157047e-02, 9.90029610e-03, 9.84905626e-04, 0.00000000e+00,\n",
       "       0.00000000e+00, 5.50954090e-04, 1.43579601e-03, 9.57098110e-03,\n",
       "       4.96616047e-02, 1.83844420e-01, 3.80493806e-01, 6.04652565e-01,\n",
       "       7.67787076e-01, 8.57416318e-01, 8.92679484e-01, 8.63763147e-01,\n",
       "       8.26726634e-01, 8.40130885e-01, 8.67128864e-01, 9.19867651e-01,\n",
       "       9.36518952e-01, 9.06639319e-01, 9.26045704e-01, 8.53864194e-01,\n",
       "       6.69873446e-01, 4.70749568e-01, 3.29802634e-01, 2.15624531e-01,\n",
       "       9.04104700e-02, 7.21114524e-03, 0.00000000e+00, 0.00000000e+00,\n",
       "       7.55611501e-04, 0.00000000e+00, 0.00000000e+00, 6.20218631e-03,\n",
       "       5.26778565e-02, 2.09778536e-01, 4.03962697e-01, 6.20027817e-01,\n",
       "       7.71240445e-01, 8.56816289e-01, 8.87095422e-01, 8.87146419e-01,\n",
       "       8.86903859e-01, 8.96588285e-01, 8.94580743e-01, 9.14623245e-01,\n",
       "       9.04293345e-01, 8.98199099e-01, 9.25358193e-01, 8.47706044e-01,\n",
       "       6.64685738e-01, 4.88217226e-01, 3.40855754e-01, 2.15893940e-01,\n",
       "       9.69218603e-02, 9.80047193e-03, 0.00000000e+00, 0.00000000e+00,\n",
       "       2.47412615e-04, 0.00000000e+00, 0.00000000e+00, 1.03499535e-02,\n",
       "       7.17647027e-02, 2.27223736e-01, 4.19486325e-01, 6.09800316e-01,\n",
       "       7.61737611e-01, 8.44646296e-01, 8.85811940e-01, 8.92832856e-01,\n",
       "       9.09661145e-01, 9.00516163e-01, 8.90807754e-01, 9.16011526e-01,\n",
       "       9.04306103e-01, 9.11498531e-01, 9.19695617e-01, 8.36926310e-01,\n",
       "       6.83060433e-01, 5.21801119e-01, 3.55107503e-01, 2.23694749e-01,\n",
       "       9.90584874e-02, 1.11847327e-02, 2.30628655e-04, 0.00000000e+00,\n",
       "       0.00000000e+00, 0.00000000e+00, 0.00000000e+00, 1.10954199e-02,\n",
       "       9.01593501e-02, 2.64578443e-01, 4.36863407e-01, 5.92539182e-01,\n",
       "       7.36235249e-01, 8.16880953e-01, 8.43690478e-01, 8.68317676e-01,\n",
       "       8.85938163e-01, 8.86028984e-01, 9.02461940e-01, 9.24245482e-01,\n",
       "       9.17661006e-01, 9.30440542e-01, 9.16117451e-01, 8.17825226e-01,\n",
       "       6.75179455e-01, 5.34881285e-01, 3.70243931e-01, 2.25562841e-01,\n",
       "       8.96714438e-02, 1.77943394e-02, 2.00127480e-03, 2.42455766e-04,\n",
       "       0.00000000e+00, 0.00000000e+00, 2.00498040e-04, 1.46861651e-02,\n",
       "       1.05655767e-01, 2.98477753e-01, 4.53881117e-01, 5.71825618e-01,\n",
       "       6.80345751e-01, 7.49741420e-01, 7.79795253e-01, 8.12677142e-01,\n",
       "       8.40979374e-01, 8.69369730e-01, 9.16439608e-01, 9.39749278e-01,\n",
       "       9.42027007e-01, 9.55656631e-01, 9.11385026e-01, 7.99583861e-01,\n",
       "       6.75426765e-01, 5.29503013e-01, 3.70327815e-01, 2.14526495e-01,\n",
       "       8.81879023e-02, 2.87302122e-02, 6.22540883e-03, 6.03182637e-04,\n",
       "       0.00000000e+00, 5.80389063e-05, 2.52072883e-03, 2.59142899e-02,\n",
       "       1.33667034e-01, 3.14412995e-01, 4.63812295e-01, 5.66872163e-01,\n",
       "       6.55042275e-01, 7.07872274e-01, 7.34541392e-01, 7.62060030e-01,\n",
       "       8.08411257e-01, 8.71920713e-01, 9.29870386e-01, 9.66384974e-01,\n",
       "       9.79293071e-01, 9.68352238e-01, 8.96031802e-01, 7.92476197e-01,\n",
       "       6.59312937e-01, 5.04759367e-01, 3.56240838e-01, 1.97360602e-01,\n",
       "       8.37549672e-02, 2.71181087e-02, 3.35717385e-03, 9.04773955e-04,\n",
       "       0.00000000e+00, 7.42503104e-04, 4.36482555e-03, 3.62083542e-02,\n",
       "       1.53773978e-01, 3.28350510e-01, 4.77523502e-01, 5.97301836e-01,\n",
       "       6.86407289e-01, 7.44780621e-01, 7.71091528e-01, 8.02632221e-01,\n",
       "       8.52853436e-01, 9.16515859e-01, 9.71739083e-01, 1.00000000e+00,\n",
       "       9.91288252e-01, 9.51634060e-01, 8.79778231e-01, 7.77256512e-01,\n",
       "       6.29696254e-01, 4.59944872e-01, 3.10083493e-01, 1.57041048e-01,\n",
       "       6.63649404e-02, 2.14277509e-02, 3.50165912e-03, 7.15540187e-04,\n",
       "       0.00000000e+00, 1.82062799e-03, 9.05839457e-03, 4.74665553e-02,\n",
       "       1.52816524e-01, 3.16636300e-01, 4.81398646e-01, 6.19455822e-01,\n",
       "       7.25746449e-01, 7.98274852e-01, 8.44968124e-01, 8.90387167e-01,\n",
       "       9.33411484e-01, 9.72264230e-01, 9.95431089e-01, 9.97758774e-01,\n",
       "       9.75205687e-01, 9.37732584e-01, 8.55350887e-01, 7.27395199e-01,\n",
       "       5.46191245e-01, 3.61806862e-01, 2.13343648e-01, 1.13888330e-01,\n",
       "       4.72464388e-02, 1.29528698e-02, 1.24573802e-03, 0.00000000e+00,\n",
       "       0.00000000e+00, 9.38048292e-04, 5.42745629e-03, 4.29736917e-02,\n",
       "       1.21553377e-01, 2.65888387e-01, 4.52668170e-01, 6.16331665e-01,\n",
       "       7.37033787e-01, 8.24524326e-01, 9.00519775e-01, 9.51004069e-01,\n",
       "       9.79644145e-01, 9.90005298e-01, 9.95835162e-01, 9.86170224e-01,\n",
       "       9.66700765e-01, 9.16536152e-01, 7.80977110e-01, 6.02017220e-01,\n",
       "       4.04709073e-01, 2.49347951e-01, 1.30285924e-01, 6.99684925e-02,\n",
       "       3.01089669e-02, 6.97025803e-03, 0.00000000e+00, 0.00000000e+00,\n",
       "       0.00000000e+00, 2.11050569e-05, 2.98338964e-03, 1.84759263e-02,\n",
       "       7.26322358e-02, 1.92201195e-01, 3.64658603e-01, 5.40948948e-01,\n",
       "       6.95391159e-01, 8.12779178e-01, 8.80838693e-01, 9.28562991e-01,\n",
       "       9.50818530e-01, 9.63781714e-01, 9.66321317e-01, 9.51926141e-01,\n",
       "       8.95151347e-01, 7.89588441e-01, 5.97731575e-01, 4.00789257e-01,\n",
       "       2.44620436e-01, 1.41069809e-01, 8.08437569e-02, 3.71733162e-02,\n",
       "       1.77380932e-02, 3.44404865e-03, 0.00000000e+00, 0.00000000e+00,\n",
       "       0.00000000e+00, 0.00000000e+00, 8.05697339e-04, 8.01360338e-03,\n",
       "       3.11484589e-02, 8.78113874e-02, 2.02683753e-01, 3.66701635e-01,\n",
       "       5.33075446e-01, 6.90731872e-01, 7.98576372e-01, 8.62414024e-01,\n",
       "       8.83836287e-01, 8.94845438e-01, 8.81156911e-01, 8.20407481e-01,\n",
       "       7.14223003e-01, 5.56815855e-01, 3.75771293e-01, 2.25953614e-01,\n",
       "       1.26399915e-01, 6.95484859e-02, 3.91201530e-02, 1.58470443e-02,\n",
       "       5.79992689e-03, 5.43595329e-04, 0.00000000e+00, 0.00000000e+00,\n",
       "       0.00000000e+00, 0.00000000e+00, 3.11299589e-04, 4.41694872e-03,\n",
       "       9.57427805e-03, 2.62943956e-02, 7.05024856e-02, 1.49520013e-01,\n",
       "       2.49482055e-01, 3.67142521e-01, 4.93751780e-01, 5.86238426e-01,\n",
       "       6.37734084e-01, 6.49027012e-01, 5.87849389e-01, 4.88186806e-01,\n",
       "       3.91114042e-01, 3.02660644e-01, 1.97713590e-01, 1.18573777e-01,\n",
       "       6.57591445e-02, 3.34757439e-02, 1.58934120e-02, 7.37703025e-03,\n",
       "       2.58965486e-03, 1.00530439e-03, 0.00000000e+00, 0.00000000e+00,\n",
       "       0.00000000e+00, 0.00000000e+00, 0.00000000e+00, 1.69845417e-03,\n",
       "       4.04577056e-03, 5.63422490e-03, 2.17534327e-02, 4.77086138e-02,\n",
       "       9.19990473e-02, 1.47144840e-01, 2.00181218e-01, 2.30196207e-01,\n",
       "       2.45934849e-01, 2.61619521e-01, 2.32868476e-01, 1.98831257e-01,\n",
       "       1.72185152e-01, 1.35147919e-01, 8.26313669e-02, 4.61402807e-02,\n",
       "       2.55305113e-02, 9.87221794e-03, 3.57596521e-03, 2.89090676e-03,\n",
       "       7.75614982e-04, 0.00000000e+00, 0.00000000e+00, 0.00000000e+00,\n",
       "       0.00000000e+00, 0.00000000e+00, 0.00000000e+00, 0.00000000e+00,\n",
       "       0.00000000e+00, 7.00382143e-04, 9.33403587e-03, 2.40563647e-02,\n",
       "       4.55435619e-02, 6.07106289e-02, 7.19008812e-02, 7.60803812e-02,\n",
       "       9.59340009e-02, 9.82245784e-02, 8.76588216e-02, 6.91167942e-02,\n",
       "       6.06826589e-02, 3.86890464e-02, 2.11806123e-02, 1.11357484e-02,\n",
       "       4.73532733e-03, 4.10582093e-03, 1.74221530e-03, 7.22124293e-04,\n",
       "       0.00000000e+00, 0.00000000e+00, 0.00000000e+00, 0.00000000e+00,\n",
       "       0.00000000e+00, 0.00000000e+00, 0.00000000e+00, 0.00000000e+00,\n",
       "       0.00000000e+00, 0.00000000e+00, 1.44319449e-03, 2.20096701e-03,\n",
       "       7.26929844e-04, 9.03992634e-04, 3.47034746e-03, 5.57099065e-03,\n",
       "       7.71582981e-03, 1.20003715e-02, 9.60342581e-03, 6.29351813e-03,\n",
       "       7.81780655e-03, 4.30903238e-03, 1.59683246e-03, 1.75865853e-03,\n",
       "       1.83323182e-03, 1.35331442e-03, 2.67453442e-04, 0.00000000e+00,\n",
       "       0.00000000e+00, 0.00000000e+00, 0.00000000e+00, 0.00000000e+00])"
      ]
     },
     "execution_count": 16,
     "metadata": {},
     "output_type": "execute_result"
    }
   ],
   "source": [
    "fl_weigths"
   ]
  },
  {
   "cell_type": "code",
   "execution_count": 17,
   "id": "0229ac89-e6f7-4400-b8af-52c5fd5d8a58",
   "metadata": {},
   "outputs": [
    {
     "data": {
      "text/plain": [
       "<matplotlib.image.AxesImage at 0x7f1daace4340>"
      ]
     },
     "execution_count": 17,
     "metadata": {},
     "output_type": "execute_result"
    },
    {
     "data": {
      "image/png": "[encoded data removed]",
      "text/plain": [
       "<Figure size 640x480 with 1 Axes>"
      ]
     },
     "metadata": {},
     "output_type": "display_data"
    }
   ],
   "source": [
    "plt.imshow(fl_weigths.reshape(28,28))"
   ]
  },
  {
   "cell_type": "code",
   "execution_count": 18,
   "id": "eda85300-d4e4-4e54-9310-c67284570a9b",
   "metadata": {},
   "outputs": [
    {
     "name": "stderr",
     "output_type": "stream",
     "text": [
      "/tmp/ipykernel_266916/157218497.py:10: RuntimeWarning: invalid value encountered in scalar divide\n",
      "  train_x_cp[:,f] =   (train_x_cp[:,f])*  (features_weigths[model_fl.INTER, c, f]/features_weigths[model_fl.INTRA, c, f])\n",
      "/tmp/ipykernel_266916/157218497.py:10: RuntimeWarning: invalid value encountered in cast\n",
      "  train_x_cp[:,f] =   (train_x_cp[:,f])*  (features_weigths[model_fl.INTER, c, f]/features_weigths[model_fl.INTRA, c, f])\n",
      "/tmp/ipykernel_266916/157218497.py:11: RuntimeWarning: invalid value encountered in scalar divide\n",
      "  test_x_cp[:,f] =    (test_x_cp[:,f]) * (features_weigths[model_fl.INTER, c, f]/features_weigths[model_fl.INTRA, c, f])\n",
      "/tmp/ipykernel_266916/157218497.py:11: RuntimeWarning: invalid value encountered in cast\n",
      "  test_x_cp[:,f] =    (test_x_cp[:,f]) * (features_weigths[model_fl.INTER, c, f]/features_weigths[model_fl.INTRA, c, f])\n",
      "/tmp/ipykernel_266916/157218497.py:10: RuntimeWarning: divide by zero encountered in scalar divide\n",
      "  train_x_cp[:,f] =   (train_x_cp[:,f])*  (features_weigths[model_fl.INTER, c, f]/features_weigths[model_fl.INTRA, c, f])\n",
      "/tmp/ipykernel_266916/157218497.py:10: RuntimeWarning: invalid value encountered in multiply\n",
      "  train_x_cp[:,f] =   (train_x_cp[:,f])*  (features_weigths[model_fl.INTER, c, f]/features_weigths[model_fl.INTRA, c, f])\n",
      "/tmp/ipykernel_266916/157218497.py:11: RuntimeWarning: divide by zero encountered in scalar divide\n",
      "  test_x_cp[:,f] =    (test_x_cp[:,f]) * (features_weigths[model_fl.INTER, c, f]/features_weigths[model_fl.INTRA, c, f])\n",
      "/tmp/ipykernel_266916/157218497.py:11: RuntimeWarning: invalid value encountered in multiply\n",
      "  test_x_cp[:,f] =    (test_x_cp[:,f]) * (features_weigths[model_fl.INTER, c, f]/features_weigths[model_fl.INTRA, c, f])\n"
     ]
    }
   ],
   "source": [
    "train_x_cp = train_x_ravel.copy()\n",
    "test_x_cp  = test_x_ravel.copy()\n",
    "\n",
    "for c in range(len(set(train_y))):\n",
    "\n",
    "    for f in range(train_x_cp.shape[1]):\n",
    "        mask_inter = train_y != c\n",
    "        mask_intra = train_y == c\n",
    "        \n",
    "        train_x_cp[:,f] =   (train_x_cp[:,f])*  (features_weigths[model_fl.INTER, c, f]/features_weigths[model_fl.INTRA, c, f])\n",
    "        test_x_cp[:,f] =    (test_x_cp[:,f]) * (features_weigths[model_fl.INTER, c, f]/features_weigths[model_fl.INTRA, c, f])\n"
   ]
  },
  {
   "cell_type": "code",
   "execution_count": 19,
   "id": "eb3042c4-6d2f-42de-91e0-5a180ff8b47d",
   "metadata": {},
   "outputs": [
    {
     "name": "stdout",
     "output_type": "stream",
     "text": [
      "***** DecisionTreeClassifier() *******\n",
      "CM  DecisionTreeClassifier() Original: [[ 894    1   16    6    6   20   18    8    5    6]\n",
      " [   0 1072   14   10    2    6    2    6   16    7]\n",
      " [  19   13  837   35   12   14   23   34   34   11]\n",
      " [   9   13   28  804    5   51   12   19   43   26]\n",
      " [   1   13   11    7  817   11   20   15   15   72]\n",
      " [  19   13   15   45   14  702   22   10   28   24]\n",
      " [  18    5   15    5   19   28  845    4   15    4]\n",
      " [   5   11   30   21    8    5    2  911   12   23]\n",
      " [  12   12   30   50   17   35   27   11  750   30]\n",
      " [   8    8   13   22   41   17    6   30   29  835]]\n",
      "BalAcc  DecisionTreeClassifier()  Original: 0.8448600746436782\n",
      "Acc  DecisionTreeClassifier() Original: 0.8467\n",
      "************\n",
      "***** RandomForestClassifier() *******\n",
      "CM  RandomForestClassifier() Original: [[ 970    0    2    0    0    2    2    1    2    1]\n",
      " [   0 1123    4    2    0    0    4    0    2    0]\n",
      " [   7    1  981    8    5    2    8    8   10    2]\n",
      " [   1    0   16  949    0   13    2   10   16    3]\n",
      " [   2    0    2    0  936    0    6    0    5   31]\n",
      " [   6    2    1   25    3  838    9    2    3    3]\n",
      " [   8    3    1    1    3   10  926    0    6    0]\n",
      " [   1    5   25    3    3    0    0  968    4   19]\n",
      " [   5    0    4   12    5    5    5    4  922   12]\n",
      " [   5    6    3   16   16    6    2    8    5  942]]\n",
      "BalAcc  RandomForestClassifier()  Original: 0.955046814265387\n",
      "Acc  RandomForestClassifier() Original: 0.9555\n",
      "************\n"
     ]
    }
   ],
   "source": [
    "for c in classifiers:\n",
    "    classifiers[c].fit(train_x_cp,train_y)\n",
    "    pred = classifiers[c].predict(test_x_cp)\n",
    "\n",
    "    cm = confusion_matrix(test_y,pred)\n",
    "    bal = balanced_accuracy_score(test_y, pred)\n",
    "    acc = accuracy_score(test_y, pred)\n",
    "\n",
    "    print('*****',c,'*******')\n",
    "    print('CM ',c,'Original:',cm)\n",
    "    print('BalAcc ',c,' Original:',bal)\n",
    "    print('Acc ',c,'Original:',acc)\n",
    "    print('************')"
   ]
  },
  {
   "cell_type": "code",
   "execution_count": 20,
   "id": "048acb23-9960-4a93-abda-2a8672056931",
   "metadata": {},
   "outputs": [],
   "source": [
    "train_x_cp = train_x_ravel.copy()\n",
    "test_x_cp  = test_x_ravel.copy()\n",
    "\n",
    "for f in range(train_x_cp.shape[1]):\n",
    "    mask_inter = train_y != c\n",
    "    mask_intra = train_y == c\n",
    "    \n",
    "    train_x_cp[:,f] =   (train_x_cp[:,f]) *  (fl_weigths[f])\n",
    "    test_x_cp[:,f] =    (test_x_cp[:,f])  *  (fl_weigths[f])\n"
   ]
  },
  {
   "cell_type": "code",
   "execution_count": 21,
   "id": "111a4057-4b40-4466-9e1d-13e665beb5e9",
   "metadata": {},
   "outputs": [
    {
     "name": "stdout",
     "output_type": "stream",
     "text": [
      "***** DecisionTreeClassifier() *******\n",
      "CM  DecisionTreeClassifier() Original: [[ 911    2   14    3    3   12   17    4   11    3]\n",
      " [   0 1095    7    5    4    9    4    0    9    2]\n",
      " [  15    9  878   28   16    9   11   33   25    8]\n",
      " [   4    7   24  853    5   53    7   10   28   19]\n",
      " [   8    3   11    5  846    9   20   10   15   55]\n",
      " [  11    7    8   48    5  735   22    9   30   17]\n",
      " [  22    2   18    9   22   21  836    1   24    3]\n",
      " [   2   17   17   15    9    6    2  929    8   23]\n",
      " [   8    9   36   33   20   28   21   10  781   28]\n",
      " [  14    5    9   13   30   16    4   23   26  869]]\n",
      "BalAcc  DecisionTreeClassifier()  Original: 0.8714622020408674\n",
      "Acc  DecisionTreeClassifier() Original: 0.8733\n",
      "************\n",
      "***** RandomForestClassifier() *******\n",
      "CM  RandomForestClassifier() Original: [[ 973    0    1    0    0    1    2    1    1    1]\n",
      " [   0 1123    2    4    0    2    2    0    1    1]\n",
      " [   6    1  995    9    2    0    4    9    6    0]\n",
      " [   0    0    8  979    0    5    0    9    6    3]\n",
      " [   1    0    2    0  956    0    4    0    3   16]\n",
      " [   3    0    0   12    3  860    7    1    4    2]\n",
      " [   6    3    0    0    3    3  939    0    4    0]\n",
      " [   1    2   22    1    0    0    0  989    4    9]\n",
      " [   4    0    6    8    2    8    3    4  932    7]\n",
      " [   8    4    2    9   11    1    1    4    6  963]]\n",
      "BalAcc  RandomForestClassifier()  Original: 0.9706906084034632\n",
      "Acc  RandomForestClassifier() Original: 0.9709\n",
      "************\n"
     ]
    }
   ],
   "source": [
    "for c in classifiers:\n",
    "    classifiers[c].fit(train_x_cp,train_y)\n",
    "    pred = classifiers[c].predict(test_x_cp)\n",
    "\n",
    "    cm = confusion_matrix(test_y,pred)\n",
    "    bal = balanced_accuracy_score(test_y, pred)\n",
    "    acc = accuracy_score(test_y, pred)\n",
    "\n",
    "    print('*****',c,'*******')\n",
    "    print('CM ',c,'Original:',cm)\n",
    "    print('BalAcc ',c,' Original:',bal)\n",
    "    print('Acc ',c,'Original:',acc)\n",
    "    print('************')\n",
    "    "
   ]
  },
  {
   "cell_type": "code",
   "execution_count": 22,
   "id": "daa03843-6308-4b95-8620-eea269edb294",
   "metadata": {},
   "outputs": [
    {
     "data": {
      "text/plain": [
       "(0.0, 1.0, 0.3330286505668184, 0.12325348576304851)"
      ]
     },
     "execution_count": 22,
     "metadata": {},
     "output_type": "execute_result"
    }
   ],
   "source": [
    "np.min(fl_weigths), np.max(fl_weigths), np.mean(fl_weigths), np.median(fl_weigths)"
   ]
  },
  {
   "cell_type": "code",
   "execution_count": 23,
   "id": "06dd7850-c3f0-495d-aee2-9199c383ca57",
   "metadata": {},
   "outputs": [
    {
     "data": {
      "text/plain": [
       "<matplotlib.image.AxesImage at 0x7f1daad36e30>"
      ]
     },
     "execution_count": 23,
     "metadata": {},
     "output_type": "execute_result"
    },
    {
     "data": {
      "image/png": "[encoded data removed]",
      "text/plain": [
       "<Figure size 640x480 with 1 Axes>"
      ]
     },
     "metadata": {},
     "output_type": "display_data"
    }
   ],
   "source": [
    "th = 0.05\n",
    "selected_features = np.where(fl_weigths > th, True, False)\n",
    "plt.imshow(selected_features.reshape(28,28))"
   ]
  },
  {
   "cell_type": "code",
   "execution_count": 24,
   "id": "8867962f-3b34-4fc4-b7e7-0934f38e3d17",
   "metadata": {},
   "outputs": [
    {
     "data": {
      "text/plain": [
       "(60000, 450)"
      ]
     },
     "execution_count": 24,
     "metadata": {},
     "output_type": "execute_result"
    }
   ],
   "source": [
    "train_x_ravel[:,selected_features].shape"
   ]
  },
  {
   "cell_type": "code",
   "execution_count": 25,
   "id": "9d558829-b4b3-44f3-b0ac-33a26c6eb0eb",
   "metadata": {},
   "outputs": [
    {
     "name": "stdout",
     "output_type": "stream",
     "text": [
      "***** DecisionTreeClassifier() *******\n",
      "CM  DecisionTreeClassifier() Original: [[ 910    1   13    3    4   17   12    9    9    2]\n",
      " [   1 1097    3    8    2    4    7    2    9    2]\n",
      " [  10    9  884   19   13    9   16   31   23   18]\n",
      " [   9   10   26  858    3   47    4   11   22   20]\n",
      " [   4    3    6    9  850    5   21   18   19   47]\n",
      " [  14    4    7   52    8  738   23    4   28   14]\n",
      " [  20    3   12    6   22   20  839    2   29    5]\n",
      " [   2   13   23   11   11    2    1  929    9   27]\n",
      " [  13    7   24   35   30   23   16   11  785   30]\n",
      " [  12    7    7   20   36   21    6   19   27  854]]\n",
      "BalAcc  DecisionTreeClassifier()  Original: 0.8725936819802396\n",
      "Acc  DecisionTreeClassifier() Original: 0.8744\n",
      "************\n",
      "***** RandomForestClassifier() *******\n",
      "CM  RandomForestClassifier() Original: [[ 969    0    0    0    0    2    3    1    4    1]\n",
      " [   0 1125    1    4    0    1    2    0    2    0]\n",
      " [   5    0 1000    4    3    0    4   10    6    0]\n",
      " [   1    0    7  975    0    7    0   10    7    3]\n",
      " [   1    0    1    0  955    0    5    0    3   17]\n",
      " [   3    0    0   10    2  861    5    2    7    2]\n",
      " [   7    3    1    0    2    5  937    0    3    0]\n",
      " [   1    2   20    1    0    0    0  989    2   13]\n",
      " [   3    0    6    7    4    7    3    4  931    9]\n",
      " [   6    5    3   10   12    3    1    3    6  960]]\n",
      "BalAcc  RandomForestClassifier()  Original: 0.969948625986409\n",
      "Acc  RandomForestClassifier() Original: 0.9702\n",
      "************\n"
     ]
    }
   ],
   "source": [
    "for c in classifiers:\n",
    "    classifiers[c].fit(train_x_cp[:,selected_features],train_y)\n",
    "    pred = classifiers[c].predict(test_x_cp[:,selected_features])\n",
    "\n",
    "    cm = confusion_matrix(test_y,pred)\n",
    "    bal = balanced_accuracy_score(test_y, pred)\n",
    "    acc = accuracy_score(test_y, pred)\n",
    "\n",
    "    print('*****',c,'*******')\n",
    "    print('CM ',c,'Original:',cm)\n",
    "    print('BalAcc ',c,' Original:',bal)\n",
    "    print('Acc ',c,'Original:',acc)\n",
    "    print('************')\n"
   ]
  }
 ],
 "metadata": {
  "kernelspec": {
   "display_name": "Python 3 (ipykernel)",
   "language": "python",
   "name": "python3"
  },
  "language_info": {
   "codemirror_mode": {
    "name": "ipython",
    "version": 3
   },
   "file_extension": ".py",
   "mimetype": "text/x-python",
   "name": "python",
   "nbconvert_exporter": "python",
   "pygments_lexer": "ipython3",
   "version": "3.10.12"
  }
 },
 "nbformat": 4,
 "nbformat_minor": 5
}
