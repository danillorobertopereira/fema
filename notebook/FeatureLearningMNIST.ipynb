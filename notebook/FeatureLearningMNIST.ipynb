{
 "cells": [
  {
   "cell_type": "code",
   "execution_count": 1,
   "id": "53e2a698-2a3c-403a-bbcc-1673d9e21d5f",
   "metadata": {},
   "outputs": [],
   "source": [
    "import sys\n",
    "import os\n",
    "from typing import Tuple\n",
    "\n",
    "sys.path.append('/home/danillorp/Área de Trabalho/github/fema/src/')\n",
    "\n",
    "\n",
    "import fema_classifier\n",
    "import fema_feature_learning\n",
    "import numpy as np\n",
    "import pandas as pd\n",
    "\n",
    "from sklearn.preprocessing import StandardScaler\n",
    "from sklearn.model_selection import train_test_split\n",
    "from sklearn.metrics import confusion_matrix\n",
    "from sklearn.metrics import balanced_accuracy_score\n",
    "from sklearn.metrics import accuracy_score\n",
    "from sklearn import preprocessing\n",
    "import matplotlib.pyplot as plt\n"
   ]
  },
  {
   "cell_type": "code",
   "execution_count": 2,
   "id": "d51fed12-0d52-4b87-aba8-de00ebcbe9e3",
   "metadata": {},
   "outputs": [
    {
     "name": "stderr",
     "output_type": "stream",
     "text": [
      "2024-03-07 09:31:54.981468: I tensorflow/core/util/port.cc:113] oneDNN custom operations are on. You may see slightly different numerical results due to floating-point round-off errors from different computation orders. To turn them off, set the environment variable `TF_ENABLE_ONEDNN_OPTS=0`.\n",
      "2024-03-07 09:31:55.032137: E external/local_xla/xla/stream_executor/cuda/cuda_dnn.cc:9261] Unable to register cuDNN factory: Attempting to register factory for plugin cuDNN when one has already been registered\n",
      "2024-03-07 09:31:55.032171: E external/local_xla/xla/stream_executor/cuda/cuda_fft.cc:607] Unable to register cuFFT factory: Attempting to register factory for plugin cuFFT when one has already been registered\n",
      "2024-03-07 09:31:55.033786: E external/local_xla/xla/stream_executor/cuda/cuda_blas.cc:1515] Unable to register cuBLAS factory: Attempting to register factory for plugin cuBLAS when one has already been registered\n",
      "2024-03-07 09:31:55.042924: I tensorflow/core/platform/cpu_feature_guard.cc:182] This TensorFlow binary is optimized to use available CPU instructions in performance-critical operations.\n",
      "To enable the following instructions: AVX2 AVX_VNNI FMA, in other operations, rebuild TensorFlow with the appropriate compiler flags.\n",
      "2024-03-07 09:31:56.064156: W tensorflow/compiler/tf2tensorrt/utils/py_utils.cc:38] TF-TRT Warning: Could not find TensorRT\n"
     ]
    }
   ],
   "source": [
    "from keras.datasets import mnist"
   ]
  },
  {
   "cell_type": "code",
   "execution_count": 3,
   "id": "99a59db6-7a93-4ae9-89cf-7500e732966a",
   "metadata": {},
   "outputs": [],
   "source": [
    "(train_x, train_y), (test_x, test_y) = mnist.load_data()"
   ]
  },
  {
   "cell_type": "code",
   "execution_count": 4,
   "id": "e630f43c-38e2-4683-9a96-9c359d715124",
   "metadata": {},
   "outputs": [
    {
     "name": "stdout",
     "output_type": "stream",
     "text": [
      "X_train: (60000, 28, 28)\n",
      "Y_train: (60000,)\n",
      "X_test:  (10000, 28, 28)\n",
      "Y_test:  (10000,)\n"
     ]
    }
   ],
   "source": [
    "print('X_train: ' + str(train_x.shape))\n",
    "print('Y_train: ' + str(train_y.shape))\n",
    "print('X_test:  '  + str(test_x.shape))\n",
    "print('Y_test:  '  + str(test_y.shape))"
   ]
  },
  {
   "cell_type": "code",
   "execution_count": 5,
   "id": "2bc8052e-3f1e-43e7-aace-4015a993e490",
   "metadata": {},
   "outputs": [],
   "source": [
    "from sklearn.tree import DecisionTreeClassifier\n",
    "from sklearn.ensemble import RandomForestClassifier\n",
    "from sklearn.ensemble import GradientBoostingClassifier\n",
    "\n",
    "classifiers = {'DecisionTreeClassifier()':DecisionTreeClassifier(),\n",
    "               'RandomForestClassifier()':RandomForestClassifier()}\n"
   ]
  },
  {
   "cell_type": "code",
   "execution_count": 6,
   "id": "a51ef555-0306-4d0d-9c36-a2910b2d0d63",
   "metadata": {},
   "outputs": [],
   "source": [
    "train_x_ravel = train_x.reshape(train_x.shape[0],train_x.shape[1]*train_x.shape[2])\n",
    "test_x_ravel = test_x.reshape(test_x.shape[0],test_x.shape[1]*test_x.shape[2])"
   ]
  },
  {
   "cell_type": "code",
   "execution_count": 7,
   "id": "1550bdbc-ea7d-44c6-a0a6-be7fa6f02c08",
   "metadata": {},
   "outputs": [
    {
     "name": "stdout",
     "output_type": "stream",
     "text": [
      "***** DecisionTreeClassifier() *******\n",
      "CM  DecisionTreeClassifier() Original: [[ 911    1    8    5    7   10   13    4   11   10]\n",
      " [   2 1088   11    8    3    4    7    3    7    2]\n",
      " [  14    9  871   37   16   12   12   25   29    7]\n",
      " [   9    5   30  859    5   49    3    7   26   17]\n",
      " [   7    3    8    5  863   15   15    9   19   38]\n",
      " [  16    7    5   42    7  746   26    5   21   17]\n",
      " [  16    3   14   12   21   21  844    2   22    3]\n",
      " [   3   13   28   18    7    9    0  920    6   24]\n",
      " [   9    9   28   38   18   26   18   10  786   32]\n",
      " [  15    6    7   25   38   13    6   21   23  855]]\n",
      "BalAcc  DecisionTreeClassifier()  Original: 0.8728109928593459\n",
      "Acc  DecisionTreeClassifier() Original: 0.8743\n",
      "************\n",
      "***** RandomForestClassifier() *******\n",
      "CM  RandomForestClassifier() Original: [[ 970    0    1    0    0    2    3    1    3    0]\n",
      " [   0 1125    1    3    0    2    2    1    1    0]\n",
      " [   5    0 1000    5    3    0    3    9    7    0]\n",
      " [   1    0   10  977    0    4    0    9    7    2]\n",
      " [   1    0    1    0  955    0    6    1    2   16]\n",
      " [   4    0    0   11    3  855    6    3    6    4]\n",
      " [   6    3    1    0    2    4  937    0    5    0]\n",
      " [   1    4   19    1    1    0    0  991    2    9]\n",
      " [   3    0    5    7    4    4    5    3  931   12]\n",
      " [   6    6    2    9   10    2    1    3    5  965]]\n",
      "BalAcc  RandomForestClassifier()  Original: 0.9702661335327395\n",
      "Acc  RandomForestClassifier() Original: 0.9706\n",
      "************\n"
     ]
    }
   ],
   "source": [
    "for c in classifiers:\n",
    "    classifiers[c].fit(train_x_ravel,train_y)\n",
    "    pred = classifiers[c].predict(test_x_ravel)\n",
    "\n",
    "    cm = confusion_matrix(test_y,pred)\n",
    "    bal = balanced_accuracy_score(test_y, pred)\n",
    "    acc = accuracy_score(test_y, pred)\n",
    "\n",
    "    print('*****',c,'*******')\n",
    "    print('CM ',c,'Original:',cm)\n",
    "    print('BalAcc ',c,' Original:',bal)\n",
    "    print('Acc ',c,'Original:',acc)\n",
    "    print('************')"
   ]
  },
  {
   "cell_type": "code",
   "execution_count": 21,
   "id": "ef823473-39ff-41e7-9b6e-d7162381a236",
   "metadata": {},
   "outputs": [
    {
     "name": "stdout",
     "output_type": "stream",
     "text": [
      "(60000, 28, 28) (60000, 784) (60000,)\n",
      "(3000, 784) (3000,)\n",
      "Running:  0.0  concluded.\n",
      "Running:  0.1  concluded.\n",
      "Running:  0.2  concluded.\n",
      "Running:  0.3  concluded.\n",
      "Running:  0.4  concluded.\n",
      "Running:  0.5  concluded.\n",
      "Running:  0.6  concluded.\n",
      "Running:  0.7  concluded.\n",
      "Running:  0.8  concluded.\n",
      "Running:  0.9  concluded.\n"
     ]
    }
   ],
   "source": [
    "model_fl = fema_feature_learning.FEMaFeatureLearning(k=10,basis=fema_classifier.Basis.radialBasis)\n",
    "\n",
    "print(train_x.shape, train_x_ravel.shape, train_y.shape)\n",
    "_x, eval_x, _y, eval_y = train_test_split(train_x_ravel, train_y, test_size=0.05)\n",
    "print(eval_x.shape, eval_y.shape)\n",
    "\n",
    "features_weigths = model_fl.fit(eval_x, eval_y.reshape(eval_y.shape[0],1), np.array([0]), np.array([0]))\n",
    "\n"
   ]
  },
  {
   "cell_type": "code",
   "execution_count": 27,
   "id": "2503f563-fb64-4cce-9f80-7dd366e77734",
   "metadata": {},
   "outputs": [
    {
     "data": {
      "text/plain": [
       "(2, 10, 28, 28)"
      ]
     },
     "execution_count": 27,
     "metadata": {},
     "output_type": "execute_result"
    }
   ],
   "source": [
    "model_fl.features_weigth.reshape(2,10,28,28).shape"
   ]
  },
  {
   "cell_type": "code",
   "execution_count": 29,
   "id": "ebee53f5-2abc-40a5-ac80-a015792381fe",
   "metadata": {},
   "outputs": [
    {
     "data": {
      "text/plain": [
       "<matplotlib.image.AxesImage at 0x7efc7e683640>"
      ]
     },
     "execution_count": 29,
     "metadata": {},
     "output_type": "execute_result"
    },
    {
     "data": {
      "image/png": "[encoded data removed]",
      "text/plain": [
       "<Figure size 640x480 with 1 Axes>"
      ]
     },
     "metadata": {},
     "output_type": "display_data"
    }
   ],
   "source": [
    "plt.imshow(model_fl.features_weigth[model_fl.INTRA,0].reshape(28,28))"
   ]
  },
  {
   "cell_type": "code",
   "execution_count": 30,
   "id": "193fcd26-4bea-4d64-ad52-067f48e1c792",
   "metadata": {},
   "outputs": [
    {
     "data": {
      "text/plain": [
       "<matplotlib.image.AxesImage at 0x7efc7e6f4520>"
      ]
     },
     "execution_count": 30,
     "metadata": {},
     "output_type": "execute_result"
    },
    {
     "data": {
      "image/png": "[encoded data removed]",
      "text/plain": [
       "<Figure size 640x480 with 1 Axes>"
      ]
     },
     "metadata": {},
     "output_type": "display_data"
    }
   ],
   "source": [
    "plt.imshow(model_fl.features_weigth[model_fl.INTER,0].reshape(28,28))"
   ]
  },
  {
   "cell_type": "code",
   "execution_count": 38,
   "id": "daccd687-0bde-4adc-b886-c5ae8cbf17e6",
   "metadata": {},
   "outputs": [
    {
     "data": {
      "image/png": "[encoded data removed]",
      "text/plain": [
       "<Figure size 1000x500 with 10 Axes>"
      ]
     },
     "metadata": {},
     "output_type": "display_data"
    }
   ],
   "source": [
    "fig = plt.figure(figsize=(10, 5)) \n",
    "  \n",
    "# setting values to rows and column variables \n",
    "rows = 2\n",
    "columns = 5\n",
    "    \n",
    "count = 1\n",
    "for r in range(rows):\n",
    "    for c in range(columns):\n",
    "        \n",
    "        # Adds a subplot at the 1st position \n",
    "        fig.add_subplot(rows, columns, count) \n",
    "      \n",
    "        # showing image         \n",
    "        plt.imshow(model_fl.features_weigth[model_fl.INTRA,count-1].reshape(28,28)) \n",
    "        plt.axis('off') \n",
    "\n",
    "        count = count+1\n"
   ]
  },
  {
   "cell_type": "code",
   "execution_count": 39,
   "id": "3441ce42-f392-41de-89d4-d6efa22e5ddd",
   "metadata": {},
   "outputs": [
    {
     "data": {
      "image/png": "[encoded data removed]",
      "text/plain": [
       "<Figure size 1000x500 with 10 Axes>"
      ]
     },
     "metadata": {},
     "output_type": "display_data"
    }
   ],
   "source": [
    "fig = plt.figure(figsize=(10, 5)) \n",
    "  \n",
    "# setting values to rows and column variables \n",
    "rows = 2\n",
    "columns = 5\n",
    "    \n",
    "count = 1\n",
    "for r in range(rows):\n",
    "    for c in range(columns):\n",
    "        \n",
    "        # Adds a subplot at the 1st position \n",
    "        fig.add_subplot(rows, columns, count) \n",
    "      \n",
    "        # showing image         \n",
    "        plt.imshow(model_fl.features_weigth[model_fl.INTER,count-1].reshape(28,28)) \n",
    "        plt.axis('off') \n",
    "\n",
    "        count = count+1\n"
   ]
  },
  {
   "cell_type": "code",
   "execution_count": 46,
   "id": "8f2f68e6-f70a-442f-9cf0-23a69d0cb7c4",
   "metadata": {},
   "outputs": [
    {
     "data": {
      "image/png": "[encoded data removed]",
      "text/plain": [
       "<Figure size 1000x500 with 10 Axes>"
      ]
     },
     "metadata": {},
     "output_type": "display_data"
    }
   ],
   "source": [
    "fig = plt.figure(figsize=(10, 5)) \n",
    "  \n",
    "# setting values to rows and column variables \n",
    "rows = 2\n",
    "columns = 5\n",
    "    \n",
    "count = 1\n",
    "for r in range(rows):\n",
    "    for c in range(columns):\n",
    "        \n",
    "        # Adds a subplot at the 1st position \n",
    "        fig.add_subplot(rows, columns, count) \n",
    "      \n",
    "        # showing image         \n",
    "        plt.imshow(model_fl.features_weigth[model_fl.INTER,count-1].reshape(28,28)-(model_fl.features_weigth[model_fl.INTRA,count-1].reshape(28,28))) \n",
    "        plt.axis('off') \n",
    "\n",
    "        count = count+1\n"
   ]
  },
  {
   "cell_type": "code",
   "execution_count": 88,
   "id": "78b55e93-af94-4211-8824-6d7c28e0aeb7",
   "metadata": {},
   "outputs": [],
   "source": [
    "fl_weigths = np.zeros((model_fl.features_weigth.shape[2]))\n",
    "n_classes = len(set(train_y))\n",
    "\n",
    "for c in range(n_classes):\n",
    "    for f in range(train_x_ravel.shape[1]):\n",
    "        fl_weigths[f] = fl_weigths[f] + (features_weigths[model_fl.INTER, c, f]+features_weigths[model_fl.INTRA, c, f])/n_classes\n",
    "\n",
    "max_w = np.max(fl_weigths)\n",
    "for f in range(train_x_ravel.shape[1]):\n",
    "    fl_weigths[f] = fl_weigths[f]/max_w"
   ]
  },
  {
   "cell_type": "code",
   "execution_count": 89,
   "id": "34a3900c-1341-462f-b36f-67e2172c292b",
   "metadata": {},
   "outputs": [
    {
     "data": {
      "text/plain": [
       "array([0.00000000e+00, 0.00000000e+00, 0.00000000e+00, 0.00000000e+00,\n",
       "       0.00000000e+00, 0.00000000e+00, 0.00000000e+00, 0.00000000e+00,\n",
       "       0.00000000e+00, 0.00000000e+00, 0.00000000e+00, 0.00000000e+00,\n",
       "       0.00000000e+00, 0.00000000e+00, 0.00000000e+00, 0.00000000e+00,\n",
       "       0.00000000e+00, 0.00000000e+00, 0.00000000e+00, 0.00000000e+00,\n",
       "       0.00000000e+00, 0.00000000e+00, 0.00000000e+00, 0.00000000e+00,\n",
       "       0.00000000e+00, 0.00000000e+00, 0.00000000e+00, 0.00000000e+00,\n",
       "       0.00000000e+00, 0.00000000e+00, 0.00000000e+00, 0.00000000e+00,\n",
       "       0.00000000e+00, 0.00000000e+00, 4.92188235e-04, 1.46498381e-03,\n",
       "       1.31443211e-03, 6.52525913e-04, 3.97086170e-03, 3.99327730e-03,\n",
       "       2.47825437e-03, 2.59656536e-03, 3.93133604e-03, 3.34180040e-03,\n",
       "       2.16696164e-03, 0.00000000e+00, 7.86916315e-04, 3.58598721e-03,\n",
       "       3.18759573e-03, 2.54699122e-04, 0.00000000e+00, 0.00000000e+00,\n",
       "       0.00000000e+00, 0.00000000e+00, 0.00000000e+00, 0.00000000e+00,\n",
       "       0.00000000e+00, 0.00000000e+00, 0.00000000e+00, 0.00000000e+00,\n",
       "       0.00000000e+00, 0.00000000e+00, 1.13847392e-03, 6.42537553e-03,\n",
       "       7.21008161e-03, 8.88164974e-03, 1.81674367e-02, 3.28133510e-02,\n",
       "       4.05810395e-02, 4.20184537e-02, 5.18471264e-02, 5.66395382e-02,\n",
       "       5.07594706e-02, 4.72625626e-02, 5.48291247e-02, 4.75990693e-02,\n",
       "       2.46746694e-02, 9.86691993e-03, 3.34163876e-03, 2.37543182e-03,\n",
       "       5.96266373e-04, 0.00000000e+00, 0.00000000e+00, 0.00000000e+00,\n",
       "       0.00000000e+00, 0.00000000e+00, 0.00000000e+00, 0.00000000e+00,\n",
       "       2.95312941e-04, 1.62403127e-03, 3.54913947e-03, 1.16694405e-02,\n",
       "       1.87392464e-02, 3.51451229e-02, 6.01676207e-02, 9.41667181e-02,\n",
       "       1.14752283e-01, 1.32457003e-01, 1.62375115e-01, 1.78190059e-01,\n",
       "       1.78544910e-01, 1.70133665e-01, 1.47892807e-01, 1.03653429e-01,\n",
       "       5.14335552e-02, 2.73857517e-02, 1.31366905e-02, 8.39141288e-03,\n",
       "       2.91820558e-03, 0.00000000e+00, 0.00000000e+00, 0.00000000e+00,\n",
       "       0.00000000e+00, 0.00000000e+00, 0.00000000e+00, 0.00000000e+00,\n",
       "       6.93103910e-04, 4.86390264e-03, 1.82897941e-02, 4.09018457e-02,\n",
       "       7.62905825e-02, 1.39282881e-01, 2.07732395e-01, 2.94519868e-01,\n",
       "       3.77940160e-01, 4.58711357e-01, 5.31644896e-01, 5.61722114e-01,\n",
       "       5.49683674e-01, 5.02961282e-01, 4.31863130e-01, 3.15174522e-01,\n",
       "       1.92684490e-01, 1.11772776e-01, 6.85424197e-02, 3.80130369e-02,\n",
       "       1.38775945e-02, 3.16248367e-03, 0.00000000e+00, 0.00000000e+00,\n",
       "       0.00000000e+00, 0.00000000e+00, 0.00000000e+00, 4.73181486e-05,\n",
       "       4.33755419e-03, 2.20386868e-02, 5.71287455e-02, 1.15175120e-01,\n",
       "       1.98092578e-01, 3.05106711e-01, 4.24119894e-01, 5.44128616e-01,\n",
       "       6.73386632e-01, 7.74145144e-01, 8.23491048e-01, 8.38109063e-01,\n",
       "       8.47077155e-01, 8.13525270e-01, 7.38321661e-01, 6.12493863e-01,\n",
       "       4.56214110e-01, 3.07997788e-01, 2.01876263e-01, 1.07735614e-01,\n",
       "       5.06647589e-02, 1.26648000e-02, 8.94312346e-04, 0.00000000e+00,\n",
       "       0.00000000e+00, 0.00000000e+00, 2.80117228e-04, 1.28483405e-03,\n",
       "       1.27076040e-02, 4.62208802e-02, 1.19109062e-01, 2.26935390e-01,\n",
       "       3.51818330e-01, 4.95188095e-01, 6.53767885e-01, 7.86211363e-01,\n",
       "       8.80763075e-01, 9.24598353e-01, 9.37315916e-01, 9.30692068e-01,\n",
       "       9.38552726e-01, 9.40059356e-01, 9.05154474e-01, 8.06554972e-01,\n",
       "       6.67323371e-01, 4.83352677e-01, 3.22546226e-01, 1.81347875e-01,\n",
       "       8.69210006e-02, 2.92502402e-02, 7.40332533e-03, 0.00000000e+00,\n",
       "       0.00000000e+00, 0.00000000e+00, 1.30289824e-03, 6.91235470e-03,\n",
       "       3.22452731e-02, 8.78121605e-02, 1.94112121e-01, 3.43309310e-01,\n",
       "       4.93161446e-01, 6.71168829e-01, 8.35197446e-01, 9.38095885e-01,\n",
       "       9.77244154e-01, 9.79507077e-01, 9.67933260e-01, 9.59013703e-01,\n",
       "       9.60985702e-01, 9.68941436e-01, 9.70235389e-01, 9.19904916e-01,\n",
       "       7.96374285e-01, 6.08732038e-01, 4.16585480e-01, 2.54945102e-01,\n",
       "       1.28885171e-01, 5.01251543e-02, 1.01077798e-02, 0.00000000e+00,\n",
       "       0.00000000e+00, 1.48387358e-03, 5.21201323e-03, 1.69153749e-02,\n",
       "       5.57080799e-02, 1.21640914e-01, 2.51733238e-01, 4.26661039e-01,\n",
       "       6.12822605e-01, 7.95571562e-01, 9.18803766e-01, 9.55166095e-01,\n",
       "       9.57786405e-01, 9.63134511e-01, 9.66182464e-01, 9.66869715e-01,\n",
       "       9.64954709e-01, 9.63530261e-01, 9.64089095e-01, 9.43600488e-01,\n",
       "       8.48977700e-01, 6.69895237e-01, 4.58832260e-01, 2.79263160e-01,\n",
       "       1.37671974e-01, 5.13859916e-02, 5.88795663e-03, 3.05558600e-04,\n",
       "       0.00000000e+00, 2.11341012e-03, 1.22820040e-02, 2.13067345e-02,\n",
       "       6.61802350e-02, 1.55480077e-01, 3.03940221e-01, 4.84267769e-01,\n",
       "       6.84763497e-01, 8.42272365e-01, 9.12094729e-01, 9.22723292e-01,\n",
       "       9.33486673e-01, 9.39376404e-01, 9.29669344e-01, 9.13161455e-01,\n",
       "       9.26560037e-01, 9.49440967e-01, 9.50693015e-01, 9.22649159e-01,\n",
       "       8.29843945e-01, 6.35375236e-01, 4.31826193e-01, 2.47760487e-01,\n",
       "       1.07536066e-01, 3.28264921e-02, 5.59209997e-03, 2.44136720e-03,\n",
       "       0.00000000e+00, 1.19069343e-03, 1.15189033e-02, 2.29453923e-02,\n",
       "       6.57450570e-02, 1.71038768e-01, 3.24353194e-01, 5.19698261e-01,\n",
       "       7.22520155e-01, 8.65324504e-01, 9.08802031e-01, 9.14508743e-01,\n",
       "       9.03667227e-01, 8.72481516e-01, 8.29973226e-01, 8.26147489e-01,\n",
       "       9.01985153e-01, 9.46468505e-01, 9.34107672e-01, 8.97881313e-01,\n",
       "       7.82050130e-01, 5.81955594e-01, 3.82375183e-01, 2.16832477e-01,\n",
       "       8.84341355e-02, 2.61220032e-02, 6.33317608e-03, 8.20532817e-04,\n",
       "       0.00000000e+00, 7.38762353e-04, 8.28835872e-03, 1.75571044e-02,\n",
       "       5.69946865e-02, 1.66290725e-01, 3.19713756e-01, 5.34296844e-01,\n",
       "       7.48441033e-01, 8.67085323e-01, 9.00320723e-01, 8.86572836e-01,\n",
       "       8.43581963e-01, 8.05859052e-01, 7.69516725e-01, 8.17035227e-01,\n",
       "       9.14558328e-01, 9.37987605e-01, 9.14090874e-01, 8.83804556e-01,\n",
       "       7.41747837e-01, 5.34748628e-01, 3.45096102e-01, 1.88907746e-01,\n",
       "       6.97297796e-02, 1.23153014e-02, 3.02951060e-03, 1.58437792e-04,\n",
       "       0.00000000e+00, 1.49617079e-03, 4.13322372e-03, 1.11627801e-02,\n",
       "       4.85789305e-02, 1.60855219e-01, 3.36644263e-01, 5.76860306e-01,\n",
       "       7.61549115e-01, 8.64489013e-01, 8.87750728e-01, 8.56550805e-01,\n",
       "       8.00662463e-01, 7.97532818e-01, 8.01562213e-01, 8.77419567e-01,\n",
       "       9.50850242e-01, 9.29536188e-01, 9.10280203e-01, 8.72867233e-01,\n",
       "       6.98373625e-01, 4.93797565e-01, 3.17834661e-01, 1.87137904e-01,\n",
       "       7.37074067e-02, 9.87113922e-03, 2.85019021e-03, 5.43215288e-04,\n",
       "       0.00000000e+00, 4.45917568e-04, 1.75601401e-03, 7.57679852e-03,\n",
       "       4.51589926e-02, 1.73453083e-01, 3.79998949e-01, 6.05564910e-01,\n",
       "       7.69047081e-01, 8.53020065e-01, 8.82967892e-01, 8.59904766e-01,\n",
       "       8.31416915e-01, 8.56625355e-01, 8.81263375e-01, 9.26543104e-01,\n",
       "       9.46180161e-01, 9.11776272e-01, 9.23095572e-01, 8.48680309e-01,\n",
       "       6.56882639e-01, 4.73373818e-01, 3.10358827e-01, 1.90100988e-01,\n",
       "       8.31693626e-02, 1.12645490e-02, 1.45433357e-03, 0.00000000e+00,\n",
       "       0.00000000e+00, 0.00000000e+00, 3.16836167e-04, 4.26891684e-03,\n",
       "       4.06706114e-02, 1.92649658e-01, 4.11532948e-01, 6.13060591e-01,\n",
       "       7.65385968e-01, 8.47829486e-01, 8.88398583e-01, 8.86231011e-01,\n",
       "       8.96244024e-01, 9.11813085e-01, 9.05759584e-01, 9.22232041e-01,\n",
       "       9.19414106e-01, 9.04046545e-01, 9.23460080e-01, 8.36092092e-01,\n",
       "       6.57572118e-01, 4.84125865e-01, 3.29221149e-01, 1.99895429e-01,\n",
       "       9.76702224e-02, 1.56362079e-02, 6.70584871e-04, 0.00000000e+00,\n",
       "       0.00000000e+00, 0.00000000e+00, 0.00000000e+00, 5.27858832e-03,\n",
       "       4.68101890e-02, 2.15713531e-01, 4.28007509e-01, 6.08384731e-01,\n",
       "       7.45366947e-01, 8.29650351e-01, 8.74393911e-01, 8.88010049e-01,\n",
       "       9.17281307e-01, 9.12625998e-01, 8.96167029e-01, 9.21788059e-01,\n",
       "       9.14536511e-01, 9.16054010e-01, 9.18519907e-01, 8.29261254e-01,\n",
       "       6.81094420e-01, 5.05023303e-01, 3.46100489e-01, 2.05617873e-01,\n",
       "       1.01634402e-01, 1.70765615e-02, 1.68171217e-03, 0.00000000e+00,\n",
       "       0.00000000e+00, 0.00000000e+00, 4.14033800e-05, 8.07828998e-03,\n",
       "       5.94673896e-02, 2.36887529e-01, 4.32503489e-01, 5.90729706e-01,\n",
       "       7.17194860e-01, 7.97392534e-01, 8.34733794e-01, 8.66233594e-01,\n",
       "       8.95775555e-01, 9.01527372e-01, 9.17993443e-01, 9.40583492e-01,\n",
       "       9.16530917e-01, 9.38147293e-01, 9.23887320e-01, 8.20252349e-01,\n",
       "       6.95560270e-01, 5.28201776e-01, 3.52488727e-01, 2.02670471e-01,\n",
       "       8.71726957e-02, 1.86477539e-02, 2.43469174e-03, 0.00000000e+00,\n",
       "       0.00000000e+00, 0.00000000e+00, 5.96858424e-04, 1.59308422e-02,\n",
       "       8.64596903e-02, 2.55626154e-01, 4.27117916e-01, 5.62505603e-01,\n",
       "       6.68572443e-01, 7.37896109e-01, 7.72025983e-01, 8.07556348e-01,\n",
       "       8.37609383e-01, 8.74813404e-01, 9.20161130e-01, 9.42994268e-01,\n",
       "       9.42361480e-01, 9.59644282e-01, 9.22797527e-01, 8.15718437e-01,\n",
       "       6.87429749e-01, 5.21771057e-01, 3.32459818e-01, 1.87779663e-01,\n",
       "       8.40695129e-02, 2.05403022e-02, 4.88554024e-03, 0.00000000e+00,\n",
       "       0.00000000e+00, 0.00000000e+00, 3.40957892e-03, 2.68715051e-02,\n",
       "       1.09231334e-01, 2.79748936e-01, 4.55628867e-01, 5.72449853e-01,\n",
       "       6.47544828e-01, 7.01044753e-01, 7.31545328e-01, 7.53635117e-01,\n",
       "       7.97767541e-01, 8.66699469e-01, 9.37814071e-01, 9.60251673e-01,\n",
       "       9.73554750e-01, 9.68022801e-01, 9.04679465e-01, 8.03069474e-01,\n",
       "       6.67092987e-01, 4.84641091e-01, 2.98734283e-01, 1.65950962e-01,\n",
       "       7.63283398e-02, 2.20934210e-02, 3.64906163e-03, 0.00000000e+00,\n",
       "       0.00000000e+00, 0.00000000e+00, 7.81145884e-03, 3.14594594e-02,\n",
       "       1.25557474e-01, 3.05937208e-01, 4.76196155e-01, 5.86876782e-01,\n",
       "       6.82603217e-01, 7.48759374e-01, 7.77613919e-01, 8.06808823e-01,\n",
       "       8.67519084e-01, 9.28479799e-01, 9.80254657e-01, 9.91417064e-01,\n",
       "       9.86275099e-01, 9.56462182e-01, 8.87352289e-01, 7.77786935e-01,\n",
       "       6.26940263e-01, 4.21148592e-01, 2.55961333e-01, 1.35787650e-01,\n",
       "       5.92447534e-02, 1.59458215e-02, 3.36139760e-03, 0.00000000e+00,\n",
       "       0.00000000e+00, 0.00000000e+00, 8.42842763e-03, 3.04384057e-02,\n",
       "       1.21285403e-01, 2.85884265e-01, 4.74264422e-01, 6.12535205e-01,\n",
       "       7.19535579e-01, 8.13381397e-01, 8.58313727e-01, 8.92701842e-01,\n",
       "       9.41270733e-01, 9.77418513e-01, 9.97760703e-01, 9.98584291e-01,\n",
       "       9.82831106e-01, 9.42879443e-01, 8.60827353e-01, 7.23767708e-01,\n",
       "       5.31367475e-01, 3.31316746e-01, 1.84896279e-01, 9.70963985e-02,\n",
       "       4.04073183e-02, 1.06012195e-02, 2.45005819e-03, 0.00000000e+00,\n",
       "       0.00000000e+00, 2.18846437e-04, 6.92811150e-03, 2.45852630e-02,\n",
       "       8.50617090e-02, 2.21202270e-01, 4.30970364e-01, 5.98097686e-01,\n",
       "       7.29516124e-01, 8.30263397e-01, 9.01863895e-01, 9.58356985e-01,\n",
       "       9.87762015e-01, 1.00000000e+00, 9.97130917e-01, 9.96170164e-01,\n",
       "       9.75704131e-01, 9.05568402e-01, 7.78380089e-01, 5.98904861e-01,\n",
       "       3.99645031e-01, 2.23577588e-01, 1.15328812e-01, 5.80061067e-02,\n",
       "       2.11494429e-02, 5.70784666e-03, 1.89636826e-03, 0.00000000e+00,\n",
       "       0.00000000e+00, 0.00000000e+00, 4.57850630e-03, 1.52315272e-02,\n",
       "       5.12371403e-02, 1.41027431e-01, 3.07976208e-01, 5.01107456e-01,\n",
       "       6.74932843e-01, 8.01059026e-01, 8.88715001e-01, 9.39641326e-01,\n",
       "       9.61038498e-01, 9.74448026e-01, 9.73581447e-01, 9.64568522e-01,\n",
       "       9.04900594e-01, 7.80055968e-01, 6.11120296e-01, 4.19664983e-01,\n",
       "       2.56496129e-01, 1.36277151e-01, 6.28994843e-02, 3.30307919e-02,\n",
       "       1.01250369e-02, 2.79607214e-03, 7.84272817e-04, 0.00000000e+00,\n",
       "       0.00000000e+00, 0.00000000e+00, 2.73291411e-03, 8.67257770e-03,\n",
       "       2.74693650e-02, 7.58877450e-02, 1.68035513e-01, 3.13887652e-01,\n",
       "       4.94323126e-01, 6.76275787e-01, 8.17968851e-01, 8.85088713e-01,\n",
       "       9.07136479e-01, 9.13050211e-01, 8.96746804e-01, 8.38189746e-01,\n",
       "       7.17874278e-01, 5.70327662e-01, 4.04459154e-01, 2.54945558e-01,\n",
       "       1.38969013e-01, 6.50245637e-02, 2.83983082e-02, 1.65301521e-02,\n",
       "       3.51936922e-03, 4.44476227e-04, 3.23106491e-04, 0.00000000e+00,\n",
       "       0.00000000e+00, 0.00000000e+00, 3.66075809e-04, 3.18591192e-03,\n",
       "       7.31834928e-03, 2.21357033e-02, 6.63107900e-02, 1.38783404e-01,\n",
       "       2.31549826e-01, 3.66102750e-01, 5.03417465e-01, 5.97596618e-01,\n",
       "       6.48490462e-01, 6.46926655e-01, 6.07904538e-01, 5.08244525e-01,\n",
       "       4.05304341e-01, 3.03830763e-01, 2.10806487e-01, 1.27630827e-01,\n",
       "       7.18737234e-02, 3.58441975e-02, 1.58787637e-02, 7.81039641e-03,\n",
       "       3.33186763e-03, 1.56852212e-03, 5.49029767e-04, 0.00000000e+00,\n",
       "       0.00000000e+00, 0.00000000e+00, 0.00000000e+00, 1.02678387e-03,\n",
       "       3.47072300e-03, 7.19439889e-03, 2.42951524e-02, 5.32521671e-02,\n",
       "       1.04162833e-01, 1.52935268e-01, 2.05138345e-01, 2.42519369e-01,\n",
       "       2.67688011e-01, 2.73462988e-01, 2.47490343e-01, 1.99724627e-01,\n",
       "       1.62899823e-01, 1.25454198e-01, 9.21913757e-02, 5.76349948e-02,\n",
       "       3.32292474e-02, 1.84492418e-02, 7.67777919e-03, 2.21826646e-03,\n",
       "       1.02473860e-03, 4.87403977e-04, 5.82643835e-04, 0.00000000e+00,\n",
       "       0.00000000e+00, 0.00000000e+00, 0.00000000e+00, 0.00000000e+00,\n",
       "       0.00000000e+00, 8.61433500e-04, 7.68545404e-03, 1.72086532e-02,\n",
       "       3.91524427e-02, 5.98292476e-02, 6.82801177e-02, 9.06516644e-02,\n",
       "       1.02229249e-01, 1.07988836e-01, 8.77394427e-02, 6.58141239e-02,\n",
       "       5.43230525e-02, 4.61619940e-02, 3.43630172e-02, 2.03870841e-02,\n",
       "       1.12893423e-02, 7.02275524e-03, 7.24823051e-04, 0.00000000e+00,\n",
       "       0.00000000e+00, 0.00000000e+00, 0.00000000e+00, 0.00000000e+00,\n",
       "       0.00000000e+00, 0.00000000e+00, 0.00000000e+00, 0.00000000e+00,\n",
       "       0.00000000e+00, 4.75254250e-04, 1.37289408e-03, 2.16053674e-03,\n",
       "       1.98677185e-03, 2.40477267e-04, 2.91234895e-03, 5.94383832e-03,\n",
       "       7.85658893e-03, 9.15646015e-03, 1.19010437e-02, 9.77610473e-03,\n",
       "       8.26345652e-03, 9.00443228e-03, 9.79929442e-03, 4.94549517e-03,\n",
       "       1.07837204e-03, 0.00000000e+00, 0.00000000e+00, 0.00000000e+00,\n",
       "       0.00000000e+00, 0.00000000e+00, 0.00000000e+00, 0.00000000e+00])"
      ]
     },
     "execution_count": 89,
     "metadata": {},
     "output_type": "execute_result"
    }
   ],
   "source": [
    "fl_weigths"
   ]
  },
  {
   "cell_type": "code",
   "execution_count": 90,
   "id": "0229ac89-e6f7-4400-b8af-52c5fd5d8a58",
   "metadata": {},
   "outputs": [
    {
     "data": {
      "text/plain": [
       "<matplotlib.image.AxesImage at 0x7efc7d5e3be0>"
      ]
     },
     "execution_count": 90,
     "metadata": {},
     "output_type": "execute_result"
    },
    {
     "data": {
      "image/png": "[encoded data removed]",
      "text/plain": [
       "<Figure size 640x480 with 1 Axes>"
      ]
     },
     "metadata": {},
     "output_type": "display_data"
    }
   ],
   "source": [
    "plt.imshow(fl_weigths.reshape(28,28))"
   ]
  },
  {
   "cell_type": "code",
   "execution_count": 59,
   "id": "eda85300-d4e4-4e54-9310-c67284570a9b",
   "metadata": {},
   "outputs": [
    {
     "name": "stderr",
     "output_type": "stream",
     "text": [
      "/tmp/ipykernel_180500/157218497.py:10: RuntimeWarning: invalid value encountered in scalar divide\n",
      "  train_x_cp[:,f] =   (train_x_cp[:,f])*  (features_weigths[model_fl.INTER, c, f]/features_weigths[model_fl.INTRA, c, f])\n",
      "/tmp/ipykernel_180500/157218497.py:10: RuntimeWarning: invalid value encountered in cast\n",
      "  train_x_cp[:,f] =   (train_x_cp[:,f])*  (features_weigths[model_fl.INTER, c, f]/features_weigths[model_fl.INTRA, c, f])\n",
      "/tmp/ipykernel_180500/157218497.py:11: RuntimeWarning: invalid value encountered in scalar divide\n",
      "  test_x_cp[:,f] =    (test_x_cp[:,f]) * (features_weigths[model_fl.INTER, c, f]/features_weigths[model_fl.INTRA, c, f])\n",
      "/tmp/ipykernel_180500/157218497.py:11: RuntimeWarning: invalid value encountered in cast\n",
      "  test_x_cp[:,f] =    (test_x_cp[:,f]) * (features_weigths[model_fl.INTER, c, f]/features_weigths[model_fl.INTRA, c, f])\n",
      "/tmp/ipykernel_180500/157218497.py:10: RuntimeWarning: divide by zero encountered in scalar divide\n",
      "  train_x_cp[:,f] =   (train_x_cp[:,f])*  (features_weigths[model_fl.INTER, c, f]/features_weigths[model_fl.INTRA, c, f])\n",
      "/tmp/ipykernel_180500/157218497.py:10: RuntimeWarning: invalid value encountered in multiply\n",
      "  train_x_cp[:,f] =   (train_x_cp[:,f])*  (features_weigths[model_fl.INTER, c, f]/features_weigths[model_fl.INTRA, c, f])\n",
      "/tmp/ipykernel_180500/157218497.py:11: RuntimeWarning: divide by zero encountered in scalar divide\n",
      "  test_x_cp[:,f] =    (test_x_cp[:,f]) * (features_weigths[model_fl.INTER, c, f]/features_weigths[model_fl.INTRA, c, f])\n",
      "/tmp/ipykernel_180500/157218497.py:11: RuntimeWarning: invalid value encountered in multiply\n",
      "  test_x_cp[:,f] =    (test_x_cp[:,f]) * (features_weigths[model_fl.INTER, c, f]/features_weigths[model_fl.INTRA, c, f])\n"
     ]
    }
   ],
   "source": [
    "train_x_cp = train_x_ravel.copy()\n",
    "test_x_cp  = test_x_ravel.copy()\n",
    "\n",
    "for c in range(len(set(train_y))):\n",
    "\n",
    "    for f in range(train_x_cp.shape[1]):\n",
    "        mask_inter = train_y != c\n",
    "        mask_intra = train_y == c\n",
    "        \n",
    "        train_x_cp[:,f] =   (train_x_cp[:,f])*  (features_weigths[model_fl.INTER, c, f]/features_weigths[model_fl.INTRA, c, f])\n",
    "        test_x_cp[:,f] =    (test_x_cp[:,f]) * (features_weigths[model_fl.INTER, c, f]/features_weigths[model_fl.INTRA, c, f])\n"
   ]
  },
  {
   "cell_type": "code",
   "execution_count": 60,
   "id": "eb3042c4-6d2f-42de-91e0-5a180ff8b47d",
   "metadata": {},
   "outputs": [
    {
     "name": "stdout",
     "output_type": "stream",
     "text": [
      "***** DecisionTreeClassifier() *******\n",
      "CM  DecisionTreeClassifier() Original: [[ 903    1   14    7    6   13   13    4   13    6]\n",
      " [   0 1076    5    5    6    9    8    9   14    3]\n",
      " [  19   16  858   44   13    9   17   27   22    7]\n",
      " [  12    9   34  797   10   56    8   15   43   26]\n",
      " [   3    3   13    5  853   13    8   12   24   48]\n",
      " [  15    7    7   68   15  681   33    9   35   22]\n",
      " [   9    4   17    6   34   36  823    4   18    7]\n",
      " [   3   21   32   23   18    8    1  886    8   28]\n",
      " [   9   15   43   54   27   33   23   12  716   42]\n",
      " [   9    5   11   28   58   14    3   33   19  829]]\n",
      "BalAcc  DecisionTreeClassifier()  Original: 0.839970641528122\n",
      "Acc  DecisionTreeClassifier() Original: 0.8422\n",
      "************\n",
      "***** RandomForestClassifier() *******\n",
      "CM  RandomForestClassifier() Original: [[ 970    0    0    0    0    3    3    1    3    0]\n",
      " [   0 1116    4    2    0    1    3    0    8    1]\n",
      " [   7    1  983    7    5    1    7   12    8    1]\n",
      " [   1    0   17  947    1   15    2   11   13    3]\n",
      " [   1    0    2    1  937    0    8    1    4   28]\n",
      " [   5    1    2   21    4  844    6    1    5    3]\n",
      " [  10    3    1    1    6    4  927    0    6    0]\n",
      " [   1    5   26    3    3    0    0  974    4   12]\n",
      " [   4    0    5   14    7    4    5    4  919   12]\n",
      " [   5    6    2   15   16    8    1    4    5  947]]\n",
      "BalAcc  RandomForestClassifier()  Original: 0.9560759052050729\n",
      "Acc  RandomForestClassifier() Original: 0.9564\n",
      "************\n"
     ]
    }
   ],
   "source": [
    "for c in classifiers:\n",
    "    classifiers[c].fit(train_x_cp,train_y)\n",
    "    pred = classifiers[c].predict(test_x_cp)\n",
    "\n",
    "    cm = confusion_matrix(test_y,pred)\n",
    "    bal = balanced_accuracy_score(test_y, pred)\n",
    "    acc = accuracy_score(test_y, pred)\n",
    "\n",
    "    print('*****',c,'*******')\n",
    "    print('CM ',c,'Original:',cm)\n",
    "    print('BalAcc ',c,' Original:',bal)\n",
    "    print('Acc ',c,'Original:',acc)\n",
    "    print('************')"
   ]
  },
  {
   "cell_type": "code",
   "execution_count": 78,
   "id": "048acb23-9960-4a93-abda-2a8672056931",
   "metadata": {},
   "outputs": [],
   "source": [
    "train_x_cp = train_x_ravel.copy()\n",
    "test_x_cp  = test_x_ravel.copy()\n",
    "\n",
    "for f in range(train_x_cp.shape[1]):\n",
    "    mask_inter = train_y != c\n",
    "    mask_intra = train_y == c\n",
    "    \n",
    "    train_x_cp[:,f] =   (train_x_cp[:,f]) *  (fl_weigths[f])\n",
    "    test_x_cp[:,f] =    (test_x_cp[:,f])  *  (fl_weigths[f])\n"
   ]
  },
  {
   "cell_type": "code",
   "execution_count": 79,
   "id": "111a4057-4b40-4466-9e1d-13e665beb5e9",
   "metadata": {},
   "outputs": [
    {
     "name": "stdout",
     "output_type": "stream",
     "text": [
      "***** DecisionTreeClassifier() *******\n",
      "CM  DecisionTreeClassifier() Original: [[ 903    1   16   12    8   12   11    6    8    3]\n",
      " [   0 1075   13    9    5    1    5    3   23    1]\n",
      " [  12   17  869   43    6    3   10   29   35    8]\n",
      " [  16    9   28  814   11   44   11   15   37   25]\n",
      " [   6    7   11    7  861    5   12    6   15   52]\n",
      " [  13    7   10   57   10  713   29   10   22   21]\n",
      " [  17    7   14    7   15   24  850    4   18    2]\n",
      " [   1   10   22   21   10    8    2  915   15   24]\n",
      " [  21   11   34   37   26   27   13   12  767   26]\n",
      " [  13    4    7   22   43   17    7   20   23  853]]\n",
      "BalAcc  DecisionTreeClassifier()  Original: 0.8602878190653218\n",
      "Acc  DecisionTreeClassifier() Original: 0.862\n",
      "************\n",
      "***** RandomForestClassifier() *******\n",
      "CM  RandomForestClassifier() Original: [[ 970    0    0    0    0    3    3    1    2    1]\n",
      " [   0 1119    3    2    0    1    4    1    5    0]\n",
      " [   6    0  993    8    2    0    5   10    8    0]\n",
      " [   0    0   16  959    1   11    0    9   11    3]\n",
      " [   1    0    1    1  943    0    6    0    5   25]\n",
      " [   4    0    3   15    4  846    7    3    7    3]\n",
      " [   7    3    1    0    2    6  936    0    3    0]\n",
      " [   1    3   22    0    3    0    0  982    4   13]\n",
      " [   5    1    8   10    8    7    4    5  915   11]\n",
      " [   6    5    2   14   16    6    1    4    9  946]]\n",
      "BalAcc  RandomForestClassifier()  Original: 0.9605404283290266\n",
      "Acc  RandomForestClassifier() Original: 0.9609\n",
      "************\n"
     ]
    }
   ],
   "source": [
    "for c in classifiers:\n",
    "    classifiers[c].fit(train_x_cp,train_y)\n",
    "    pred = classifiers[c].predict(test_x_cp)\n",
    "\n",
    "    cm = confusion_matrix(test_y,pred)\n",
    "    bal = balanced_accuracy_score(test_y, pred)\n",
    "    acc = accuracy_score(test_y, pred)\n",
    "\n",
    "    print('*****',c,'*******')\n",
    "    print('CM ',c,'Original:',cm)\n",
    "    print('BalAcc ',c,' Original:',bal)\n",
    "    print('Acc ',c,'Original:',acc)\n",
    "    print('************')\n",
    "    "
   ]
  },
  {
   "cell_type": "code",
   "execution_count": 92,
   "id": "daa03843-6308-4b95-8620-eea269edb294",
   "metadata": {},
   "outputs": [
    {
     "data": {
      "text/plain": [
       "(0.0, 1.0, 0.33183134261632613, 0.11496370153500159)"
      ]
     },
     "execution_count": 92,
     "metadata": {},
     "output_type": "execute_result"
    }
   ],
   "source": [
    "np.min(fl_weigths), np.max(fl_weigths), np.mean(fl_weigths), np.median(fl_weigths)"
   ]
  },
  {
   "cell_type": "code",
   "execution_count": 123,
   "id": "06dd7850-c3f0-495d-aee2-9199c383ca57",
   "metadata": {},
   "outputs": [
    {
     "data": {
      "text/plain": [
       "<matplotlib.image.AxesImage at 0x7efc79d341f0>"
      ]
     },
     "execution_count": 123,
     "metadata": {},
     "output_type": "execute_result"
    },
    {
     "data": {
      "image/png": "[encoded data removed]",
      "text/plain": [
       "<Figure size 640x480 with 1 Axes>"
      ]
     },
     "metadata": {},
     "output_type": "display_data"
    }
   ],
   "source": [
    "th = 0.1\n",
    "selected_features = np.where(fl_weigths > th, True, False)\n",
    "plt.imshow(selected_features.reshape(28,28))"
   ]
  },
  {
   "cell_type": "code",
   "execution_count": 124,
   "id": "8867962f-3b34-4fc4-b7e7-0934f38e3d17",
   "metadata": {},
   "outputs": [
    {
     "data": {
      "text/plain": [
       "(60000, 402)"
      ]
     },
     "execution_count": 124,
     "metadata": {},
     "output_type": "execute_result"
    }
   ],
   "source": [
    "train_x_ravel[:,selected_features].shape"
   ]
  },
  {
   "cell_type": "code",
   "execution_count": 125,
   "id": "9d558829-b4b3-44f3-b0ac-33a26c6eb0eb",
   "metadata": {},
   "outputs": [
    {
     "name": "stdout",
     "output_type": "stream",
     "text": [
      "***** DecisionTreeClassifier() *******\n",
      "CM  DecisionTreeClassifier() Original: [[ 901    2   21    9    9   14   15    3    3    3]\n",
      " [   0 1075   10    6    7    3    9    3   19    3]\n",
      " [  15   14  882   37   12    6    9   27   28    2]\n",
      " [  12   12   33  820    8   46    3   17   39   20]\n",
      " [   3    7   10    9  848    9   16   13   14   53]\n",
      " [  15    7    7   59    8  705   35   12   24   20]\n",
      " [  16    7   18    8   11   20  860    2   13    3]\n",
      " [   1   12   31   17    6    4    2  920   13   22]\n",
      " [  17    9   34   44   27   37   14   15  750   27]\n",
      " [  11    5    9   24   51   24    5   19   22  839]]\n",
      "BalAcc  DecisionTreeClassifier()  Original: 0.8581141272477464\n",
      "Acc  DecisionTreeClassifier() Original: 0.86\n",
      "************\n",
      "***** RandomForestClassifier() *******\n",
      "CM  RandomForestClassifier() Original: [[ 972    0    0    0    0    2    2    1    2    1]\n",
      " [   0 1118    3    3    0    2    4    1    4    0]\n",
      " [   5    0  995    8    2    0    4    8    9    1]\n",
      " [   0    0   12  964    0    9    1    9   11    4]\n",
      " [   1    1    1    0  945    0    5    0    5   24]\n",
      " [   5    2    1   21    3  844    7    2    5    2]\n",
      " [   7    3    1    0    4    5  934    0    4    0]\n",
      " [   1    3   24    4    2    0    0  977    5   12]\n",
      " [   4    2    6   10    4    7    8    5  918   10]\n",
      " [   6    5    3   13   11    4    1    5    9  952]]\n",
      "BalAcc  RandomForestClassifier()  Original: 0.9615322097203867\n",
      "Acc  RandomForestClassifier() Original: 0.9619\n",
      "************\n"
     ]
    }
   ],
   "source": [
    "for c in classifiers:\n",
    "    classifiers[c].fit(train_x_cp[:,selected_features],train_y)\n",
    "    pred = classifiers[c].predict(test_x_cp[:,selected_features])\n",
    "\n",
    "    cm = confusion_matrix(test_y,pred)\n",
    "    bal = balanced_accuracy_score(test_y, pred)\n",
    "    acc = accuracy_score(test_y, pred)\n",
    "\n",
    "    print('*****',c,'*******')\n",
    "    print('CM ',c,'Original:',cm)\n",
    "    print('BalAcc ',c,' Original:',bal)\n",
    "    print('Acc ',c,'Original:',acc)\n",
    "    print('************')\n"
   ]
  }
 ],
 "metadata": {
  "kernelspec": {
   "display_name": "Python 3 (ipykernel)",
   "language": "python",
   "name": "python3"
  },
  "language_info": {
   "codemirror_mode": {
    "name": "ipython",
    "version": 3
   },
   "file_extension": ".py",
   "mimetype": "text/x-python",
   "name": "python",
   "nbconvert_exporter": "python",
   "pygments_lexer": "ipython3",
   "version": "3.10.12"
  }
 },
 "nbformat": 4,
 "nbformat_minor": 5
}
